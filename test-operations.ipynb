{
 "cells": [
  {
   "cell_type": "code",
   "execution_count": null,
   "id": "94780bcc",
   "metadata": {},
   "outputs": [],
   "source": [
    "from chromatic_fitting import *\n",
    "from chromatic import Rainbow, SimulatedRainbow\n",
    "from pymc3 import Normal, Uniform, Model, HalfNormal,Deterministic,  plot_trace, sample_prior_predictive, sample_posterior_predictive\n",
    "from tqdm import tqdm\n",
    "from pymc3_ext import eval_in_model, optimize, sample, ParameterGroup\n",
    "from exoplanet import QuadLimbDark, ImpactParameter\n",
    "\n",
    "plt.matplotlib.style.use('default')"
   ]
  },
  {
   "cell_type": "markdown",
   "id": "903b247d",
   "metadata": {},
   "source": [
    "### Let's experiment with `+-*/`"
   ]
  },
  {
   "cell_type": "code",
   "execution_count": null,
   "id": "4385da63",
   "metadata": {},
   "outputs": [],
   "source": [
    "r = (SimulatedRainbow(R=5, dt=10*u.minute)\n",
    "     .inject_transit()\n",
    "     .inject_noise(signal_to_noise=1000))\n",
    "r.plot()"
   ]
  },
  {
   "cell_type": "markdown",
   "id": "69a3e13d",
   "metadata": {},
   "source": [
    "Let's create two models and merge them using math (which is actually secretly creating `CombinedModel`s in the background."
   ]
  },
  {
   "cell_type": "code",
   "execution_count": null,
   "id": "17ace5ae",
   "metadata": {},
   "outputs": [],
   "source": [
    "t = TransitModel()\n",
    "t.setup_parameters(radius_ratio=WavelikeFitted(Normal, mu=0.3, sigma=0.05))\n",
    "\n",
    "p = PolynomialModel()\n",
    "p.setup_parameters(p=WavelikeFitted(Uniform,upper=[0.01,0.1],lower=[-0.01,-0.1],shape=2))"
   ]
  },
  {
   "cell_type": "code",
   "execution_count": null,
   "id": "aa765e80",
   "metadata": {
    "scrolled": true
   },
   "outputs": [],
   "source": [
    "c = t + p\n",
    "c.attach_data(r)\n",
    "c.setup_lightcurves()\n",
    "c.setup_likelihood()\n",
    "c.plot_priors()"
   ]
  },
  {
   "cell_type": "code",
   "execution_count": null,
   "id": "8a464499",
   "metadata": {},
   "outputs": [],
   "source": [
    "c = t - p\n",
    "c.attach_data(r)\n",
    "c.setup_lightcurves()\n",
    "c.setup_likelihood()\n",
    "c.plot_priors()"
   ]
  },
  {
   "cell_type": "code",
   "execution_count": null,
   "id": "98afa623",
   "metadata": {},
   "outputs": [],
   "source": [
    "c = t * p\n",
    "c.attach_data(r)\n",
    "c.setup_lightcurves()\n",
    "c.setup_likelihood()\n",
    "c.plot_priors()"
   ]
  },
  {
   "cell_type": "code",
   "execution_count": null,
   "id": "075f335a",
   "metadata": {},
   "outputs": [],
   "source": [
    "c = t / p\n",
    "c.attach_data(r)\n",
    "c.setup_lightcurves()\n",
    "c.setup_likelihood()\n",
    "c.plot_priors()"
   ]
  },
  {
   "cell_type": "markdown",
   "id": "60d87926",
   "metadata": {},
   "source": [
    "Can we actually do a fit?"
   ]
  },
  {
   "cell_type": "code",
   "execution_count": null,
   "id": "ff163477",
   "metadata": {},
   "outputs": [],
   "source": [
    "c = t + p\n",
    "c.attach_data(r)\n",
    "c.setup_lightcurves()\n",
    "c.setup_likelihood()\n",
    "c.optimize()\n",
    "c.sample()"
   ]
  },
  {
   "cell_type": "code",
   "execution_count": null,
   "id": "cc212ed4",
   "metadata": {},
   "outputs": [],
   "source": [
    "c.plot_posteriors()"
   ]
  },
  {
   "cell_type": "markdown",
   "id": "981ccf04",
   "metadata": {},
   "source": [
    "## Can we combine three models? \n",
    "\n",
    "(looks like not quite yet, but here's what maybe it would hopefully look like?)"
   ]
  },
  {
   "cell_type": "code",
   "execution_count": null,
   "id": "3d2a4e4a",
   "metadata": {},
   "outputs": [],
   "source": [
    "t2 = TransitModel()\n",
    "t2.setup_parameters(epoch=0.05, radius_ratio=0.2, baseline=0)"
   ]
  },
  {
   "cell_type": "code",
   "execution_count": null,
   "id": "e66cad4d",
   "metadata": {},
   "outputs": [],
   "source": [
    "c = (t + t2) * p\n",
    "c.attach_data(r)\n",
    "c.setup_lightcurves()\n",
    "c.setup_likelihood()\n",
    "c.plot_priors()"
   ]
  }
 ],
 "metadata": {
  "kernelspec": {
   "display_name": "Python 3",
   "language": "python",
   "name": "python3"
  },
  "language_info": {
   "codemirror_mode": {
    "name": "ipython",
    "version": 3
   },
   "file_extension": ".py",
   "mimetype": "text/x-python",
   "name": "python",
   "nbconvert_exporter": "python",
   "pygments_lexer": "ipython3",
   "version": "3.9.12"
  }
 },
 "nbformat": 4,
 "nbformat_minor": 5
}

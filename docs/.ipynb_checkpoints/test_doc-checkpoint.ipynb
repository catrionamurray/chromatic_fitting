{
 "cells": [
  {
   "cell_type": "markdown",
   "id": "e2843354",
   "metadata": {},
   "source": [
    "# Testing the Docs"
   ]
  },
  {
   "cell_type": "markdown",
   "id": "cd6f503b",
   "metadata": {},
   "source": [
    "balbalaablab"
   ]
  },
  {
   "cell_type": "code",
   "execution_count": 1,
   "id": "9c9f3dc2",
   "metadata": {},
   "outputs": [],
   "source": [
    "import numpy as np"
   ]
  },
  {
   "cell_type": "markdown",
   "id": "048f85fb",
   "metadata": {},
   "source": [
    "dfhjhdjk"
   ]
  },
  {
   "cell_type": "code",
   "execution_count": null,
   "id": "3d007b07",
   "metadata": {},
   "outputs": [],
   "source": []
  }
 ],
 "metadata": {
  "kernelspec": {
   "display_name": "Python 3 (ipykernel)",
   "language": "python",
   "name": "python3"
  },
  "language_info": {
   "codemirror_mode": {
    "name": "ipython",
    "version": 3
   },
   "file_extension": ".py",
   "mimetype": "text/x-python",
   "name": "python",
   "nbconvert_exporter": "python",
   "pygments_lexer": "ipython3",
   "version": "3.9.7"
  }
 },
 "nbformat": 4,
 "nbformat_minor": 5
}

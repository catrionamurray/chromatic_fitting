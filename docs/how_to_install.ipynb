{
 "cells": [
  {
   "cell_type": "markdown",
   "id": "6f2c38de",
   "metadata": {},
   "source": [
    "# Installation Guide"
   ]
  },
  {
   "cell_type": "markdown",
   "id": "21869b8a",
   "metadata": {},
   "source": [
    "To install this package we assume you have a Python environment set up, into which you can install packages via pip. If this isn't the case, we recommend installing the Anaconda python distribution, and using conda to manage the version(s) of python you have installed on your computer. One (of many) tutorials about how to get started with Python is available [here](https://github.com/ers-transit/hackathon-2021-day0)."
   ]
  },
  {
   "cell_type": "markdown",
   "id": "cef530ef",
   "metadata": {},
   "source": [
    "## Basic Installation"
   ]
  },
  {
   "cell_type": "markdown",
   "id": "9879aeee",
   "metadata": {},
   "source": [
    "To install this code run:"
   ]
  },
  {
   "cell_type": "markdown",
   "id": "d15377c5",
   "metadata": {},
   "source": [
    "`pip install git+https://github.com/catrionamurray/chromatic_fitting`"
   ]
  },
  {
   "cell_type": "markdown",
   "id": "94f85c17",
   "metadata": {},
   "source": [
    "which should install the `chromatic_fitting` package as well as any necessary dependencies. If you already have `chromatic_fitting` already installed but need a newer version then run:"
   ]
  },
  {
   "cell_type": "markdown",
   "id": "3095efaf",
   "metadata": {},
   "source": [
    "`pip install --upgrade git+https://github.com/catrionamurray/chromatic_fitting`"
   ]
  },
  {
   "cell_type": "markdown",
   "id": "8948c8f9",
   "metadata": {},
   "source": [
    "## Developer Installation"
   ]
  },
  {
   "cell_type": "markdown",
   "id": "8c26d049",
   "metadata": {},
   "source": [
    "If you would like to be able to dive into, edit, or develop this code then we recommend you fork and/or clone the github repository onto your own computer:"
   ]
  },
  {
   "cell_type": "markdown",
   "id": "f9fda0a5",
   "metadata": {},
   "source": [
    "`git clone https://github.com/catrionamurray/chromatic_fitting.git\n",
    "cd chromatic_fitting\n",
    "pip install -e '.[develop]`"
   ]
  },
  {
   "cell_type": "markdown",
   "id": "5f51419e",
   "metadata": {},
   "source": [
    "Including the [develop] after the . will install both the dependencies for the package itself and the extra dependencies required for development (= testing and documentation)."
   ]
  },
  {
   "cell_type": "markdown",
   "id": "c119c735",
   "metadata": {},
   "source": [
    "You can quickly test whether your installation worked, and what version you have, by running the Python code:"
   ]
  },
  {
   "cell_type": "code",
   "execution_count": 2,
   "id": "d00293fe",
   "metadata": {},
   "outputs": [
    {
     "name": "stdout",
     "output_type": "stream",
     "text": [
      "Running on Python v3.8.13 (default, Mar 28 2022, 06:13:39) \n",
      "[Clang 12.0.0 ]\n",
      "Running on numpy v1.22.1\n"
     ]
    },
    {
     "data": {
      "text/plain": [
       "'0.2.3'"
      ]
     },
     "execution_count": 2,
     "metadata": {},
     "output_type": "execute_result"
    }
   ],
   "source": [
    "import chromatic_fitting\n",
    "chromatic_fitting.version()"
   ]
  },
  {
   "cell_type": "markdown",
   "id": "07205aed",
   "metadata": {},
   "source": [
    "Enjoy!"
   ]
  }
 ],
 "metadata": {
  "kernelspec": {
   "display_name": "Python 3 (ipykernel)",
   "language": "python",
   "name": "python3"
  },
  "language_info": {
   "codemirror_mode": {
    "name": "ipython",
    "version": 3
   },
   "file_extension": ".py",
   "mimetype": "text/x-python",
   "name": "python",
   "nbconvert_exporter": "python",
   "pygments_lexer": "ipython3",
   "version": "3.8.13"
  }
 },
 "nbformat": 4,
 "nbformat_minor": 5
}

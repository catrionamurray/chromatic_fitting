{
 "cells": [
  {
   "cell_type": "code",
   "execution_count": null,
   "id": "cceeb3d2",
   "metadata": {
    "pycharm": {
     "name": "#%%\n"
    }
   },
   "outputs": [],
   "source": [
    "from chromatic_fitting import *\n",
    "from chromatic import Rainbow, SimulatedRainbow\n",
    "from pymc3 import Normal, Uniform, Model, HalfNormal,Deterministic,  plot_trace, sample_prior_predictive, sample_posterior_predictive\n",
    "# from tqdm import tqdm\n",
    "from pymc3_ext import eval_in_model, optimize, sample, ParameterGroup\n",
    "from exoplanet import QuadLimbDark, ImpactParameter\n",
    "\n",
    "plt.matplotlib.style.use('default')"
   ]
  },
  {
   "cell_type": "markdown",
   "id": "98658bfa",
   "metadata": {
    "pycharm": {
     "name": "#%% md\n"
    }
   },
   "source": [
    "Create Synthetic Rainbow + Transit"
   ]
  },
  {
   "cell_type": "code",
   "execution_count": null,
   "id": "c730579d",
   "metadata": {
    "pycharm": {
     "name": "#%%\n"
    }
   },
   "outputs": [],
   "source": [
    "# create transit rainbow:\n",
    "r = SimulatedRainbow(dt=1 * u.minute, R=50).inject_noise(signal_to_noise=100)\n",
    "\n",
    "# add transit:\n",
    "r = r.inject_transit(\n",
    "        planet_radius=np.linspace(0.2, 0.15, r.nwave))\n",
    "\n",
    "# bin:\n",
    "rbin5 = r.bin(nwavelengths=int(r.nwave/5), dt=5 * u.minute)\n",
    "\n",
    "rbin5.imshow_quantities();"
   ]
  },
  {
   "cell_type": "markdown",
   "id": "70f36110",
   "metadata": {
    "pycharm": {
     "name": "#%% md\n"
    }
   },
   "source": [
    "## Fit with PyMC3 Transit Model"
   ]
  },
  {
   "cell_type": "markdown",
   "id": "6e68922f",
   "metadata": {
    "pycharm": {
     "name": "#%% md\n"
    }
   },
   "source": [
    "Create a transit model"
   ]
  },
  {
   "cell_type": "code",
   "execution_count": null,
   "id": "59af8dda",
   "metadata": {
    "pycharm": {
     "name": "#%%\n"
    },
    "scrolled": false
   },
   "outputs": [],
   "source": [
    "# create transit model:\n",
    "t = TransitModel()\n",
    "\n",
    "# add empty pymc3 model:\n",
    "t.initialize_empty_model()\n",
    "\n",
    "# add our parameters:\n",
    "t.setup_parameters(\n",
    "                  period=1, # a fixed value!\n",
    "                   epoch=Fitted(Uniform,lower=-0.05,upper=0.05), # one fitted value across all wavelengths\n",
    "                   stellar_radius = Fitted(Uniform, lower=0.8, upper=1.2,testval=1),\n",
    "                   stellar_mass =Fitted(Uniform, lower=0.8, upper=1.2,testval=1),\n",
    "                   radius_ratio=WavelikeFitted(Normal, mu=0.5, sigma=0.05), # a value fitted for every wavelength!\n",
    "                   impact_parameter=Fitted(ImpactParameter,ror=0.15,testval=0.44),\n",
    "                   limb_darkening=WavelikeFitted(QuadLimbDark,testval=[0.05,0.35]),\n",
    "                    baseline = WavelikeFitted(Normal, mu=1.0, sigma=0.05), # I will keep this fixed for when we add a polynomial model!\n",
    "                )\n",
    "\n",
    "# print a summary of all params:\n",
    "t.summarize_parameters()"
   ]
  },
  {
   "cell_type": "markdown",
   "id": "9b1ac4db",
   "metadata": {
    "pycharm": {
     "name": "#%% md\n"
    }
   },
   "source": [
    "Now we can attach the data and setup the model!"
   ]
  },
  {
   "cell_type": "code",
   "execution_count": null,
   "id": "f1d4260a",
   "metadata": {
    "pycharm": {
     "name": "#%%\n"
    }
   },
   "outputs": [],
   "source": [
    "# attach the Rainbow object to the model:\n",
    "t.attach_data(rbin5)\n",
    "\n",
    "# setup the lightcurves for the transit model:\n",
    "t.setup_lightcurves()\n",
    "\n",
    "# relate the \"actual\" data to the model (using a Normal likelihood function)\n",
    "t.setup_likelihood()"
   ]
  },
  {
   "cell_type": "markdown",
   "id": "367b740c",
   "metadata": {
    "pycharm": {
     "name": "#%% md\n"
    }
   },
   "source": [
    "Let's check the model has the parameters we expect:"
   ]
  },
  {
   "cell_type": "code",
   "execution_count": null,
   "id": "c46008f6",
   "metadata": {
    "pycharm": {
     "name": "#%%\n"
    }
   },
   "outputs": [],
   "source": [
    "print(t.pymc3_model)"
   ]
  },
  {
   "cell_type": "markdown",
   "id": "ecdd8a42",
   "metadata": {
    "pycharm": {
     "name": "#%% md\n"
    }
   },
   "source": [
    "Now we can plot a couple of priors - do they look OK?"
   ]
  },
  {
   "cell_type": "code",
   "execution_count": null,
   "id": "316ed69e",
   "metadata": {
    "pycharm": {
     "name": "#%%\n"
    }
   },
   "outputs": [],
   "source": [
    "t.plot_priors()"
   ]
  },
  {
   "cell_type": "markdown",
   "id": "03c5a0bd",
   "metadata": {
    "pycharm": {
     "name": "#%% md\n"
    }
   },
   "source": [
    "Another check is does the orbit look good?"
   ]
  },
  {
   "cell_type": "code",
   "execution_count": null,
   "id": "163b3eb1",
   "metadata": {
    "pycharm": {
     "name": "#%%\n"
    }
   },
   "outputs": [],
   "source": [
    "t.plot_orbit()"
   ]
  },
  {
   "cell_type": "markdown",
   "id": "31a8721c",
   "metadata": {
    "pycharm": {
     "name": "#%% md\n"
    }
   },
   "source": [
    "Finally, if we're happy, we can try sampling! This can take a while if there's lots of parameters!"
   ]
  },
  {
   "cell_type": "code",
   "execution_count": null,
   "id": "a7df40cb",
   "metadata": {
    "pycharm": {
     "name": "#%%\n"
    }
   },
   "outputs": [],
   "source": [
    "t.sample(tune=3000, draws=3000, chains=4, cores=4)"
   ]
  },
  {
   "cell_type": "markdown",
   "id": "87003376",
   "metadata": {
    "pycharm": {
     "name": "#%% md\n"
    }
   },
   "source": [
    "We might want to see a summary table of the MCMC sampling results:"
   ]
  },
  {
   "cell_type": "code",
   "execution_count": null,
   "id": "8448936c",
   "metadata": {
    "pycharm": {
     "name": "#%%\n"
    }
   },
   "outputs": [],
   "source": [
    "t.summarize(round_to=7, fmt='wide')"
   ]
  },
  {
   "cell_type": "markdown",
   "id": "18eccf47",
   "metadata": {
    "pycharm": {
     "name": "#%% md\n"
    }
   },
   "source": [
    "We might also want to see a couple of posterior samples as a \"quick-look\" check!"
   ]
  },
  {
   "cell_type": "code",
   "execution_count": null,
   "id": "612586a6",
   "metadata": {
    "pycharm": {
     "name": "#%%\n"
    }
   },
   "outputs": [],
   "source": [
    "t.plot_posteriors()"
   ]
  }
 ],
 "metadata": {
  "kernelspec": {
   "display_name": "Python 3 (ipykernel)",
   "language": "python",
   "name": "python3"
  },
  "language_info": {
   "codemirror_mode": {
    "name": "ipython",
    "version": 3
   },
   "file_extension": ".py",
   "mimetype": "text/x-python",
   "name": "python",
   "nbconvert_exporter": "python",
   "pygments_lexer": "ipython3",
   "version": "3.8.13"
  }
 },
 "nbformat": 4,
 "nbformat_minor": 5
}

{
 "cells": [
  {
   "cell_type": "markdown",
   "id": "6c8bbc7c",
   "metadata": {},
   "source": [
    "# `chromatic_fitting`"
   ]
  },
  {
   "cell_type": "markdown",
   "id": "79b14016",
   "metadata": {},
   "source": [
    "The `chromatic_fitting` package is a friendly, open-source python package that is built on the [`chromatic`](https://zkbt.github.io/chromatic/) tool. `chromatic` transforms spectroscopic light curves into `Rainbow` 🌈 objects which allows for easy visualization and comparison.\n",
    "\n",
    "This package uses [`pymc3`](https://docs.pymc.io/en/v3/index.html) and [`exoplanet`](https://docs.exoplanet.codes/en/latest/) to perform transit fits (as well as fits for other models) to spectroscopic light curve data. It can combine transit models with polynomial models (in time, x, y etc.) or Gaussian Process models to account for the systematics in the light curves and to fit all parameters simultaeously. There is also the option to perform fits for a 'white light curve', fit wavelengths independently or to fit all wavelengths simultaneously. This tool will also produce a transmission spectrum from the chosen fits.\n",
    "\n",
    "The goal of `chromatic_fitting` is to aid the fast, easy comparison of different data reduction techniques by standardizing the light curve-fitting stage. Its flexibility also allows the comparison of different types of fits and models to understand the impact on the corresponding transmission spectra. "
   ]
  }
 ],
 "metadata": {
  "kernelspec": {
   "display_name": "Python 3 (ipykernel)",
   "language": "python",
   "name": "python3"
  },
  "language_info": {
   "codemirror_mode": {
    "name": "ipython",
    "version": 3
   },
   "file_extension": ".py",
   "mimetype": "text/x-python",
   "name": "python",
   "nbconvert_exporter": "python",
   "pygments_lexer": "ipython3",
   "version": "3.8.13"
  }
 },
 "nbformat": 4,
 "nbformat_minor": 5
}

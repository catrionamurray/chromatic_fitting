{
 "cells": [
  {
   "cell_type": "markdown",
   "id": "7df8229b",
   "metadata": {},
   "source": [
    "# Parameters"
   ]
  },
  {
   "cell_type": "markdown",
   "id": "92df9a92",
   "metadata": {
    "pycharm": {
     "name": "#%% md\n"
    }
   },
   "source": [
    "There are four options for parameters in `chromatic_fitting`: `Fixed`, `WavelikeFixed`, `Fitted`, and `WavelikeFitted`. `Fixed` is one fixed value for all wavelengths, `WavelikeFixed` are fixed values that are different between wavelengths. `Fitted` determines a prior distribution (e.g. `Uniform`, `Normal`, `TruncatedNormal`) that we will use to fit one value for the parameter across all wavelengths. Similarly, `WavelikeFitted` is a prior distribution that we will use to fit for a different value for every wavelength. "
   ]
  },
  {
   "cell_type": "code",
   "execution_count": 1,
   "id": "85d15ef3",
   "metadata": {
    "pycharm": {
     "name": "#%%\n"
    }
   },
   "outputs": [
    {
     "name": "stdout",
     "output_type": "stream",
     "text": [
      "Running chromatic_fitting v0.0.4!\n",
      "\n",
      "This program is running on:\n",
      "Python v3.9.12 (main, Apr  5 2022, 01:52:34) \n",
      "[Clang 12.0.0 ]\n",
      "numpy v1.21.5\n",
      "chromatic v0.3.14\n",
      "pymc3 v3.11.4\n",
      "pymc3_ext v0.1.1\n",
      "exoplanet v0.5.3\n"
     ]
    }
   ],
   "source": [
    "from chromatic_fitting import *\n",
    "from pymc3 import Uniform, Normal\n",
    "import pymc3 as pm\n",
    "from pymc3 import sample_prior_predictive"
   ]
  },
  {
   "cell_type": "markdown",
   "id": "e64bc27e",
   "metadata": {
    "pycharm": {
     "name": "#%% md\n"
    }
   },
   "source": [
    "### `Fixed`"
   ]
  },
  {
   "cell_type": "markdown",
   "id": "589b3c47",
   "metadata": {
    "pycharm": {
     "name": "#%% md\n"
    }
   },
   "source": [
    "A fixed value for all wavelengths."
   ]
  },
  {
   "cell_type": "code",
   "execution_count": 2,
   "id": "c84dd99b",
   "metadata": {
    "pycharm": {
     "name": "#%%\n"
    }
   },
   "outputs": [
    {
     "name": "stdout",
     "output_type": "stream",
     "text": [
      "<🧮 Fixed | 3.0 🧮>\n"
     ]
    }
   ],
   "source": [
    "a = Fixed(3.0)\n",
    "print(a)"
   ]
  },
  {
   "cell_type": "markdown",
   "id": "0cd7c7cd",
   "metadata": {
    "pycharm": {
     "name": "#%% md\n"
    }
   },
   "source": [
    "When we call the `.get_prior()` function a `Fixed` parameter will just return its value:"
   ]
  },
  {
   "cell_type": "code",
   "execution_count": 3,
   "id": "99c58b03",
   "metadata": {
    "pycharm": {
     "name": "#%%\n"
    }
   },
   "outputs": [
    {
     "data": {
      "text/plain": [
       "3.0"
      ]
     },
     "execution_count": 3,
     "metadata": {},
     "output_type": "execute_result"
    }
   ],
   "source": [
    "a.get_prior()"
   ]
  },
  {
   "cell_type": "markdown",
   "id": "f62192c2",
   "metadata": {
    "pycharm": {
     "name": "#%% md\n"
    }
   },
   "source": [
    "### `WavelikeFixed`"
   ]
  },
  {
   "cell_type": "markdown",
   "id": "b88eec22",
   "metadata": {
    "pycharm": {
     "name": "#%% md\n"
    }
   },
   "source": [
    "A fixed value for each wavelength:"
   ]
  },
  {
   "cell_type": "code",
   "execution_count": 4,
   "id": "a5d2b24d",
   "metadata": {
    "pycharm": {
     "name": "#%%\n"
    }
   },
   "outputs": [
    {
     "name": "stdout",
     "output_type": "stream",
     "text": [
      "<🧮 WavelikeFixed | one value for each wavelength (4 elements)🧮>\n"
     ]
    }
   ],
   "source": [
    "b = WavelikeFixed([1.0, 2.2, 3.6, 7.7])\n",
    "print(b)"
   ]
  },
  {
   "cell_type": "markdown",
   "id": "39d235e7",
   "metadata": {
    "pycharm": {
     "name": "#%% md\n"
    }
   },
   "source": [
    "For the `WavelikeFixed` parameter we need to provide the wavelength index we want to the `.get_prior()` function"
   ]
  },
  {
   "cell_type": "code",
   "execution_count": 5,
   "id": "2f3168fe",
   "metadata": {
    "pycharm": {
     "name": "#%%\n"
    }
   },
   "outputs": [
    {
     "data": {
      "text/plain": [
       "3.6"
      ]
     },
     "execution_count": 5,
     "metadata": {},
     "output_type": "execute_result"
    }
   ],
   "source": [
    "b.get_prior(i=2)"
   ]
  },
  {
   "cell_type": "markdown",
   "id": "4cd80023",
   "metadata": {
    "pycharm": {
     "name": "#%% md\n"
    }
   },
   "source": [
    "### `Fitted`"
   ]
  },
  {
   "cell_type": "markdown",
   "id": "c85861a5",
   "metadata": {
    "pycharm": {
     "name": "#%% md\n"
    }
   },
   "source": [
    "The `Fitted` parameter is for fitting a prior distribution (`self.distribution`) with the given inputs (`self.inputs`) to give us one value for all wavelengths. We can use any distribution we like instead of Normal here, we just need to give it the correct inputs:"
   ]
  },
  {
   "cell_type": "code",
   "execution_count": 6,
   "id": "766ba472",
   "metadata": {
    "pycharm": {
     "name": "#%%\n"
    }
   },
   "outputs": [
    {
     "name": "stdout",
     "output_type": "stream",
     "text": [
      "<🧮 Fitted Normal(mu=1.0, sigma=0.1, name='c') 🧮>\n"
     ]
    }
   ],
   "source": [
    "c = Fitted(Normal, mu=1.0, sigma=0.1, name=\"c\")\n",
    "print(c)"
   ]
  },
  {
   "cell_type": "markdown",
   "id": "c9a2a946",
   "metadata": {
    "pycharm": {
     "name": "#%% md\n"
    }
   },
   "source": [
    "Let's check we set up the distribution and inputs correctly:"
   ]
  },
  {
   "cell_type": "code",
   "execution_count": 7,
   "id": "003a359c",
   "metadata": {
    "pycharm": {
     "name": "#%%\n"
    }
   },
   "outputs": [
    {
     "data": {
      "text/plain": [
       "(pymc3.distributions.continuous.Normal, {'mu': 1.0, 'sigma': 0.1, 'name': 'c'})"
      ]
     },
     "execution_count": 7,
     "metadata": {},
     "output_type": "execute_result"
    }
   ],
   "source": [
    "c.distribution, c.inputs"
   ]
  },
  {
   "cell_type": "markdown",
   "id": "75ecac17",
   "metadata": {
    "pycharm": {
     "name": "#%% md\n"
    }
   },
   "source": [
    "For the `Fitted` parameters we need to call the `.get_prior()` function for the first time  inside of a PyMC3 model:"
   ]
  },
  {
   "cell_type": "code",
   "execution_count": 8,
   "id": "258f337a",
   "metadata": {
    "pycharm": {
     "name": "#%%\n"
    }
   },
   "outputs": [
    {
     "name": "stdout",
     "output_type": "stream",
     "text": [
      "c ~ Normal\n"
     ]
    }
   ],
   "source": [
    "with pm.Model() as mod:\n",
    "    print(c.get_prior())"
   ]
  },
  {
   "cell_type": "code",
   "execution_count": 9,
   "id": "a81f82e8",
   "metadata": {},
   "outputs": [
    {
     "data": {
      "text/latex": [
       "$\\text{c} \\sim \\text{Normal}(\\mathit{mu}=1.0,~\\mathit{sigma}=0.1)$"
      ],
      "text/plain": [
       "c ~ Normal"
      ]
     },
     "execution_count": 9,
     "metadata": {},
     "output_type": "execute_result"
    }
   ],
   "source": [
    "c.get_prior()"
   ]
  },
  {
   "cell_type": "code",
   "execution_count": 10,
   "id": "970286fc",
   "metadata": {},
   "outputs": [
    {
     "data": {
      "text/latex": [
       "$\\text{c} \\sim \\text{Normal}(\\mathit{mu}=1.0,~\\mathit{sigma}=0.1)$"
      ],
      "text/plain": [
       "c ~ Normal"
      ]
     },
     "execution_count": 10,
     "metadata": {},
     "output_type": "execute_result"
    }
   ],
   "source": [
    "c._pymc3_prior"
   ]
  },
  {
   "cell_type": "markdown",
   "id": "e65d1f2a",
   "metadata": {
    "pycharm": {
     "name": "#%% md\n"
    }
   },
   "source": [
    "Now let's check the model (and see if our parameter has been set up in it!):"
   ]
  },
  {
   "cell_type": "code",
   "execution_count": 11,
   "id": "b2e96005",
   "metadata": {
    "pycharm": {
     "name": "#%%\n"
    }
   },
   "outputs": [
    {
     "data": {
      "text/latex": [
       "$$\n",
       "                \\begin{array}{rcl}\n",
       "                \\text{c} &\\sim & \\text{Normal}\n",
       "                \\end{array}\n",
       "                $$"
      ],
      "text/plain": [
       "<pymc3.model.Model at 0x2873f90a0>"
      ]
     },
     "execution_count": 11,
     "metadata": {},
     "output_type": "execute_result"
    }
   ],
   "source": [
    "mod"
   ]
  },
  {
   "cell_type": "markdown",
   "id": "caaba3f1",
   "metadata": {
    "pycharm": {
     "name": "#%% md\n"
    }
   },
   "source": [
    "A final check we can do to understand this parameter is to sample from the prior we've given the model:"
   ]
  },
  {
   "cell_type": "code",
   "execution_count": 12,
   "id": "8a9ebaff",
   "metadata": {
    "pycharm": {
     "name": "#%%\n"
    }
   },
   "outputs": [],
   "source": [
    "with mod:\n",
    "    # take 5000 samples from the prior distributions:\n",
    "    sample = sample_prior_predictive(5000)"
   ]
  },
  {
   "cell_type": "markdown",
   "id": "4c5ca3e3",
   "metadata": {
    "pycharm": {
     "name": "#%% md\n"
    }
   },
   "source": [
    "And if everything has worked then this should look like a Gaussian centred at 1 with ~sigma of 0.1!"
   ]
  },
  {
   "cell_type": "code",
   "execution_count": 13,
   "id": "d18dc9f6",
   "metadata": {
    "pycharm": {
     "name": "#%%\n"
    }
   },
   "outputs": [
    {
     "data": {
      "image/png": "[encoded data removed]",
      "text/plain": [
       "<Figure size 432x288 with 1 Axes>"
      ]
     },
     "metadata": {
      "needs_background": "light"
     },
     "output_type": "display_data"
    }
   ],
   "source": [
    "plt.hist(sample['c'], bins=20);"
   ]
  },
  {
   "cell_type": "markdown",
   "id": "3ccee82a",
   "metadata": {
    "pycharm": {
     "name": "#%% md\n"
    }
   },
   "source": [
    "### `WavelikeFitted`"
   ]
  },
  {
   "cell_type": "markdown",
   "id": "6d8d463a",
   "metadata": {
    "pycharm": {
     "name": "#%% md\n"
    }
   },
   "source": [
    "The `WavelikeFitted` parameter is fitting the prior distribution (`self.distribution`) with the given inputs (`self.inputs`) for each wavelength independantly."
   ]
  },
  {
   "cell_type": "code",
   "execution_count": 92,
   "id": "310d812a",
   "metadata": {
    "pycharm": {
     "name": "#%%\n"
    }
   },
   "outputs": [
    {
     "name": "stdout",
     "output_type": "stream",
     "text": [
      "<🧮 WavelikeFitted Uniform(lower=1.0, upper=5.0, name='d') for each wavelength 🧮>\n"
     ]
    }
   ],
   "source": [
    "d = WavelikeFitted(Uniform, lower=1.0, upper=5.0, name=\"d\")\n",
    "print(d)"
   ]
  },
  {
   "cell_type": "markdown",
   "id": "8c79d3e9",
   "metadata": {
    "pycharm": {
     "name": "#%% md\n"
    }
   },
   "source": [
    "Let's check our distribution and input values:"
   ]
  },
  {
   "cell_type": "code",
   "execution_count": 93,
   "id": "785417b0",
   "metadata": {
    "pycharm": {
     "name": "#%%\n"
    }
   },
   "outputs": [
    {
     "data": {
      "text/plain": [
       "(pymc3.distributions.continuous.Uniform,\n",
       " {'lower': 1.0, 'upper': 5.0, 'name': 'd'})"
      ]
     },
     "execution_count": 93,
     "metadata": {},
     "output_type": "execute_result"
    }
   ],
   "source": [
    "d.distribution, d.inputs"
   ]
  },
  {
   "cell_type": "markdown",
   "id": "edd2c0e9",
   "metadata": {
    "pycharm": {
     "name": "#%% md\n"
    }
   },
   "source": [
    "For `WavelikeFitted`, similarly to `Fitted` parameters, we also need to call the `.get_prior()` function for the first time inside a PyMC3 model, however, we need to tell the function which wavelength we want to fit:"
   ]
  },
  {
   "cell_type": "code",
   "execution_count": 94,
   "id": "e611eea1",
   "metadata": {
    "pycharm": {
     "name": "#%%\n"
    }
   },
   "outputs": [],
   "source": [
    "kw = {'shape':3}\n",
    "with pm.Model() as mod:\n",
    "    d.get_prior_vector(**kw)"
   ]
  },
  {
   "cell_type": "code",
   "execution_count": 99,
   "id": "50a4ec92",
   "metadata": {},
   "outputs": [
    {
     "data": {
      "text/latex": [
       "$\\text{d} \\sim \\text{Uniform}(\\mathit{lower}=1.0,~\\mathit{upper}=5.0)$"
      ],
      "text/plain": [
       "d ~ Uniform"
      ]
     },
     "execution_count": 99,
     "metadata": {},
     "output_type": "execute_result"
    }
   ],
   "source": [
    "d._pymc3_prior"
   ]
  },
  {
   "cell_type": "code",
   "execution_count": 100,
   "id": "d5bd0751",
   "metadata": {
    "pycharm": {
     "name": "#%%\n"
    }
   },
   "outputs": [
    {
     "data": {
      "text/latex": [
       "$$\n",
       "                \\begin{array}{rcl}\n",
       "                \\text{d_interval__} &\\sim & \\text{TransformedDistribution}\\\\\\text{d} &\\sim & \\text{Uniform}\n",
       "                \\end{array}\n",
       "                $$"
      ],
      "text/plain": [
       "<pymc3.model.Model at 0x31bc28610>"
      ]
     },
     "execution_count": 100,
     "metadata": {},
     "output_type": "execute_result"
    }
   ],
   "source": [
    "mod"
   ]
  },
  {
   "cell_type": "code",
   "execution_count": 101,
   "id": "31107f56",
   "metadata": {
    "pycharm": {
     "name": "#%%\n"
    }
   },
   "outputs": [],
   "source": [
    "with mod:\n",
    "    sample = sample_prior_predictive(1000)"
   ]
  },
  {
   "cell_type": "code",
   "execution_count": 102,
   "id": "0932397f",
   "metadata": {
    "pycharm": {
     "name": "#%%\n"
    }
   },
   "outputs": [
    {
     "data": {
      "image/png": "[encoded data removed]",
      "text/plain": [
       "<Figure size 432x288 with 1 Axes>"
      ]
     },
     "metadata": {
      "needs_background": "light"
     },
     "output_type": "display_data"
    }
   ],
   "source": [
    "plt.hist(sample['d']);"
   ]
  },
  {
   "cell_type": "markdown",
   "id": "2784dd0a",
   "metadata": {
    "pycharm": {
     "name": "#%% md\n"
    }
   },
   "source": [
    "Looks pretty uniform between 1-5!"
   ]
  }
 ],
 "metadata": {
  "kernelspec": {
   "display_name": "Python 3 (ipykernel)",
   "language": "python",
   "name": "python3"
  },
  "language_info": {
   "codemirror_mode": {
    "name": "ipython",
    "version": 3
   },
   "file_extension": ".py",
   "mimetype": "text/x-python",
   "name": "python",
   "nbconvert_exporter": "python",
   "pygments_lexer": "ipython3",
   "version": "3.9.12"
  }
 },
 "nbformat": 4,
 "nbformat_minor": 5
}

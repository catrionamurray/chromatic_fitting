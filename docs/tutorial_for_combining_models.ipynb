{
 "cells": [
  {
   "cell_type": "markdown",
   "id": "fed70385",
   "metadata": {
    "pycharm": {
     "name": "#%% md\n"
    }
   },
   "source": [
    "# Combining Models"
   ]
  },
  {
   "cell_type": "markdown",
   "id": "d7abae4e",
   "metadata": {
    "pycharm": {
     "name": "#%% md\n"
    }
   },
   "source": [
    "Now we might want to combine different models together. For example, we might want to fit a transit simultaneously with its systematics (polynomials in time, x, y, background etc.). This is very similar to the Transit and Polynomial tutorials, so if you haven't looked at those tutorials I recommend you do before this one!"
   ]
  },
  {
   "cell_type": "code",
   "execution_count": 1,
   "id": "c5c57acb",
   "metadata": {
    "pycharm": {
     "name": "#%%\n"
    }
   },
   "outputs": [
    {
     "name": "stdout",
     "output_type": "stream",
     "text": [
      "Running chromatic_fitting v0.9.8!\n",
      "\n",
      "This program is running on:\n",
      "Python v3.9.12 (main, Jun  1 2022, 06:34:44) \n",
      "[Clang 12.0.0 ]\n",
      "numpy v1.22.1\n",
      "chromatic v0.4.7\n",
      "pymc3 v3.11.5\n",
      "pymc3_ext v0.1.1\n",
      "exoplanet v0.5.2\n"
     ]
    }
   ],
   "source": [
    "# import chromatic_fitting of course!\n",
    "from chromatic_fitting import *\n",
    "\n",
    "# import any prior distributions we want to use for our parameters - I've chosen Normal and Uniform from pymc3\n",
    "# and QuadLimbDark and ImpactParameter from exoplanet\n",
    "from pymc3 import Normal, Uniform\n",
    "from exoplanet import QuadLimbDark, ImpactParameter\n",
    "\n",
    "# import astropy table just for this tutorial (pandas dataframes don't show up nicely on the docs pages!)\n",
    "from astropy.table import Table\n",
    "\n",
    "plt.matplotlib.style.use('default')"
   ]
  },
  {
   "cell_type": "markdown",
   "id": "84030658",
   "metadata": {
    "pycharm": {
     "name": "#%% md\n"
    }
   },
   "source": [
    "Generate some simulated data. This time we will use the handy `.inject_systematics()` and `.inject_noise()` functions in `chromatic`"
   ]
  },
  {
   "cell_type": "code",
   "execution_count": null,
   "outputs": [],
   "source": [
    "# create a basic simulated data set\n",
    "s = SimulatedRainbow()\n",
    "# inject a transit and noise as well as systematics in x, y, background and time.\n",
    "s = s.inject_transit(planet_radius=np.linspace(0.2, 0.15, s.nwave)).inject_noise(signal_to_noise=20).inject_systematics(amplitude=0.005)\n",
    "\n",
    "ramp = np.array([np.ones(s.ntime)] * s.nwave)\n",
    "A = 0.02\n",
    "decay_time = 0.01\n",
    "C = 1\n",
    "ramp = A * np.exp(-(s.time.to_value('d')-s.time[0].to_value('d'))/decay_time) + C\n",
    "s.flux = s.flux * ramp\n",
    "s.fluxlike['model'] = s.fluxlike['model'] * ramp\n",
    "s.fluxlike['systematics_model'] = s.fluxlike['systematics_model']*ramp\n",
    "s.fluxlike['ramp'] = np.array([ramp]*s.nwave)\n",
    "\n",
    "step = np.array([np.ones(s.ntime)] * s.nwave)\n",
    "step[:,85:] *= 1.015\n",
    "s.flux = s.flux * step\n",
    "s.fluxlike['model'] = s.fluxlike['model']*step\n",
    "s.fluxlike['systematics_model'] = s.fluxlike['systematics_model']*step\n",
    "s.fluxlike['step'] = step\n",
    "\n",
    "# finally, we will bin our lightcurves to make this tutorial run faster!\n",
    "nwave = 5\n",
    "sb = s.bin(nwavelengths=int(s.nwave/nwave), dt=5 * u.minute)\n",
    "\n",
    "# show all the Rainbow.fluxlike quantities:\n",
    "sb.imshow_quantities();"
   ],
   "metadata": {
    "collapsed": false,
    "pycharm": {
     "name": "#%%\n"
    }
   }
  },
  {
   "cell_type": "code",
   "execution_count": null,
   "outputs": [],
   "source": [
    "fig,ax = plt.subplots(figsize=(8,8))\n",
    "sb2 = s.bin(nwavelengths=s.nwave)#, dt=4 * u.minute)\n",
    "# sb2=s\n",
    "sb2.plot_lightcurves(ax=ax,cmap='gray', plotkw={'alpha':0.3})\n",
    "plt.ylim(0.94,1.05)\n",
    "plt.plot(sb2.time, sb2.fluxlike['planet_model'][0], label='Planet Transit', alpha=0.7)\n",
    "plt.plot(sb2.time, sb2.fluxlike['ramp'][0], label='Ramp', alpha=0.7)\n",
    "plt.plot(sb2.time, sb2.fluxlike['step'][0], label='Step', alpha=0.7)\n",
    "plt.plot(sb2.time, 1+sb2.fluxlike['systematics_model_from_time'][0], label='Systematic - Time', alpha=0.7)\n",
    "plt.plot(sb2.time, 1+sb2.fluxlike['systematics_model_from_x'][0], label='Systematic - X', alpha=0.7)\n",
    "plt.plot(sb2.time, 1+sb2.fluxlike['systematics_model_from_y'][0], label='Systematic - Y', alpha=0.7)\n",
    "plt.plot(sb2.time, 1+sb2.fluxlike['systematics_model_from_background'][0], label='Systematic - Background', alpha=0.7)\n",
    "plt.plot(sb2.time, sb2.fluxlike['planet_model'][0] * \\\n",
    "         (sb2.fluxlike['ramp'][0] + sb2.fluxlike['systematics_model_from_time'][0] + sb2.fluxlike['systematics_model_from_x'][0] + sb2.fluxlike['systematics_model_from_y'][0] + sb2.fluxlike['systematics_model_from_background'][0]) * \\\n",
    "         sb2.fluxlike['step'][0], label='Total Model', c='blue')\n",
    "# plt.plot(sb2.time, sb2.fluxlike['model'][0], label='Total Model')\n",
    "# plt.plot(sb2.time)\n",
    "plt.legend();"
   ],
   "metadata": {
    "collapsed": false,
    "pycharm": {
     "name": "#%%\n"
    }
   }
  },
  {
   "cell_type": "code",
   "execution_count": null,
   "outputs": [],
   "source": [
    "sb2.fluxlike.keys()\n",
    "# s.flu/xlike.keys()\n",
    "# np.shape(ramp)"
   ],
   "metadata": {
    "collapsed": false,
    "pycharm": {
     "name": "#%%\n"
    }
   }
  },
  {
   "cell_type": "code",
   "execution_count": null,
   "outputs": [],
   "source": [
    "sb.plot_lightcurves();"
   ],
   "metadata": {
    "collapsed": false,
    "pycharm": {
     "name": "#%%\n"
    }
   }
  },
  {
   "cell_type": "markdown",
   "source": [
    "Set up the transit and polynomial models. This is where we can set the distributions for every parameter, the names of the models, the degree of the polynomials, the variables we want to relate the polynomials to, etc. Here we decided to just model linear polynomials (with degree=1) for each systematic variable: "
   ],
   "metadata": {
    "collapsed": false,
    "pycharm": {
     "name": "#%% md\n"
    }
   }
  },
  {
   "cell_type": "code",
   "execution_count": null,
   "outputs": [],
   "source": [
    "# set up transit model:\n",
    "t = TransitModel()\n",
    "t.setup_parameters(\n",
    "                  period=1,\n",
    "                   epoch=Fitted(Uniform,lower=-0.05,upper=0.05),\n",
    "                   stellar_radius = Fitted(Uniform, lower=0.8, upper=1.2,testval=1),\n",
    "                   stellar_mass =Fitted(Uniform, lower=0.8, upper=1.2,testval=1),\n",
    "                   radius_ratio=WavelikeFitted(Normal, mu=0.1, sigma=0.05),\n",
    "                   impact_parameter=Fitted(ImpactParameter,ror=0.15,testval=0.44),\n",
    "                   limb_darkening=WavelikeFitted(Uniform,testval=[0.05,0.35],shape=2),\n",
    "                    baseline = WavelikeFitted(Normal, mu=1.0, sigma=0.1)\n",
    "                )\n",
    "\n",
    "# set up time polynomial model:\n",
    "b = PolynomialModel(degree=1, name='stime')\n",
    "b.setup_parameters(\n",
    "    p_0 = 1.0,\n",
    "    p_1 = Fitted(Normal,mu=0.0,sigma=0.01),\n",
    ")\n",
    "\n",
    "# set up x polynomial model:\n",
    "b_x = PolynomialModel(degree=1, independant_variable=\"x\", name='sx')\n",
    "b_x.setup_parameters(\n",
    "    p_1 = Fitted(Normal,mu=0.0,sigma=0.01),\n",
    ")\n",
    "\n",
    "# set up y polynomial model:\n",
    "b_y = PolynomialModel(degree=1, independant_variable=\"y\", name='sy')\n",
    "b_y.setup_parameters(\n",
    "    p_1 = Fitted(Normal,mu=0.0,sigma=0.01),\n",
    ")\n",
    "\n",
    "# set up bkg polynomial model:\n",
    "b_bkg = PolynomialModel(degree=1, independant_variable=\"background\", name='sbkg')\n",
    "b_bkg.setup_parameters(\n",
    "    p_1 = Fitted(Normal,mu=0.0,sigma=0.01),\n",
    ")\n",
    "\n",
    "# add ramp model:\n",
    "ramp = ExponentialModel(t0=s.time[0])\n",
    "ramp.setup_parameters(\n",
    "    A = Fitted(Uniform,testval=0.01,upper=0.05,lower=-0.05),\n",
    "    decay_time = Fitted(Uniform,testval=0.001,upper=0.01,lower=0),\n",
    "    baseline = 0\n",
    ")\n",
    "\n",
    "# add step model:\n",
    "step = StepModel()\n",
    "step.setup_parameters(\n",
    "    df=Fitted(Uniform, lower=0.0, upper=0.03),\n",
    "    f0=1,\n",
    "    t0=Fitted(Uniform, lower=0.0, upper=0.03)\n",
    ")"
   ],
   "metadata": {
    "collapsed": false,
    "pycharm": {
     "name": "#%%\n"
    }
   }
  },
  {
   "cell_type": "markdown",
   "source": [
    "We can combine the models by using the standard arithmetic operators: +, -, * and /. In this case I will multiply the transit model by the sum of all the systematic polynomials. *Note: we have to be careful here not to have multiple different variables that all describe some constant offset.* For example, in the transit model we have the 'baseline' parameter that determines the out-of-transit constant flux. But in the polynomials we can also fit for the 0th order flux, 'p_0'. We should be careful not to fit for both! (By default 'p_0' will be set to 0.0 in the models where we don't define it.)"
   ],
   "metadata": {
    "collapsed": false,
    "pycharm": {
     "name": "#%% md\n"
    }
   }
  },
  {
   "cell_type": "code",
   "execution_count": null,
   "outputs": [],
   "source": [
    "cmod = t * step * (b + b_x + b_y + b_bkg + ramp)\n",
    "cmod"
   ],
   "metadata": {
    "collapsed": false,
    "pycharm": {
     "name": "#%%\n"
    }
   }
  },
  {
   "cell_type": "markdown",
   "source": [
    "The individual models will be stored in a dictionary under `.chromatic_models`:"
   ],
   "metadata": {
    "collapsed": false,
    "pycharm": {
     "name": "#%% md\n"
    }
   }
  },
  {
   "cell_type": "code",
   "execution_count": null,
   "outputs": [],
   "source": [
    "cmod._chromatic_models"
   ],
   "metadata": {
    "collapsed": false,
    "pycharm": {
     "name": "#%%\n"
    }
   }
  },
  {
   "cell_type": "markdown",
   "source": [
    "Let's see what parameters we have in our models:"
   ],
   "metadata": {
    "collapsed": false,
    "pycharm": {
     "name": "#%% md\n"
    }
   }
  },
  {
   "cell_type": "code",
   "execution_count": null,
   "outputs": [],
   "source": [
    "cmod.summarize_parameters()"
   ],
   "metadata": {
    "collapsed": false,
    "pycharm": {
     "name": "#%%\n"
    }
   }
  },
  {
   "cell_type": "markdown",
   "source": [
    "Then we just attach the Rainbow data to the model and run `.setup_lightcurves()` and `.setup_likelihood()` as in the previous tutorials:"
   ],
   "metadata": {
    "collapsed": false,
    "pycharm": {
     "name": "#%% md\n"
    }
   }
  },
  {
   "cell_type": "code",
   "execution_count": null,
   "outputs": [],
   "source": [
    "# attach the data to our model\n",
    "cmod.attach_data(sb)\n",
    "\n",
    "# If we don't want to fit everything simultaneously we can change the optimization method (the options \n",
    "# are \"separate\" or \"white_light\"). This has to be set BEFORE running .setup_lightcurves!\n",
    "# cmod.choose_optimization_method('separate')\n",
    "\n",
    "# The 'store_models' keyword can be useful later to speed up debugging/plotting, but it can slow \n",
    "# down/break fitting for large numbers of wavelengths\n",
    "cmod.setup_lightcurves(normalize=False) # (store_models=True)\n",
    "\n",
    "# Finally use the observed data to fit the model (assuming Gaussian errors!)\n",
    "cmod.setup_likelihood()"
   ],
   "metadata": {
    "collapsed": false,
    "pycharm": {
     "name": "#%%\n"
    }
   }
  },
  {
   "cell_type": "markdown",
   "source": [
    "If we look at our `PyMC3` model we can see that it has a lot of parameters (the combination of all our models) to optimize! If we've chosen the separate wavelength fitting method (`.choose_optimization_method(\"separate\")`) then `._pymc3_model` will return a list of PyMC3 models (one for each wavelength)."
   ],
   "metadata": {
    "collapsed": false,
    "pycharm": {
     "name": "#%% md\n"
    }
   }
  },
  {
   "cell_type": "code",
   "execution_count": null,
   "outputs": [],
   "source": [
    "print(cmod._pymc3_model)"
   ],
   "metadata": {
    "collapsed": false,
    "pycharm": {
     "name": "#%%\n"
    }
   }
  },
  {
   "cell_type": "markdown",
   "source": [
    "We've got our polynomial parameters (`stime_p_1, sx_p_1, sy_p_1, sbkg_p_1`), our transit parameters that are wavelength-independant in this case (`epoch, impact_parameter, stellar_radius, stellar_mass, a_R*, limb_darkening`) and the wavelength-dependant parameters we've defined to be `radius_ratio_w{N}` only. The `wavelength_{N}_data` parameter just represents the fit of the data to the model at each wavelength (which we've defined to be a Normal distribution). If we've decided to `store_models` then we will also see a bunch of models!"
   ],
   "metadata": {
    "collapsed": false,
    "pycharm": {
     "name": "#%% md\n"
    }
   }
  },
  {
   "cell_type": "markdown",
   "source": [
    "But what do the actual light curves look like?"
   ],
   "metadata": {
    "collapsed": false,
    "pycharm": {
     "name": "#%% md\n"
    }
   }
  },
  {
   "cell_type": "code",
   "execution_count": null,
   "outputs": [],
   "source": [
    "cmod.plot_lightcurves()"
   ],
   "metadata": {
    "collapsed": false,
    "pycharm": {
     "name": "#%%\n"
    }
   }
  },
  {
   "cell_type": "markdown",
   "source": [
    "We can still see the transit for each wavelength, but it's clear that the systematics would affect any derivation of the transit parameters if we didn't model for these systematics! "
   ],
   "metadata": {
    "collapsed": false,
    "pycharm": {
     "name": "#%% md\n"
    }
   }
  },
  {
   "cell_type": "markdown",
   "source": [
    "## PyMC3 Sampling"
   ],
   "metadata": {
    "collapsed": false,
    "pycharm": {
     "name": "#%% md\n"
    }
   }
  },
  {
   "cell_type": "markdown",
   "source": [
    "Now we can run the NUTS sampling for our light curves (first by optimizing our initial values)"
   ],
   "metadata": {
    "collapsed": false,
    "pycharm": {
     "name": "#%% md\n"
    }
   }
  },
  {
   "cell_type": "code",
   "execution_count": null,
   "outputs": [],
   "source": [
    "# optimize for initial values!\n",
    "opt = cmod.optimize(plot=True)\n",
    "\n",
    "# put those initial values into the sampling and define the number of tuning and draw steps, \n",
    "# as well as the number of chains. NOTE: if you do separate wavelength fitting then the number of steps \n",
    "# is per wavelengths, not divided between the wavelengths!\n",
    "cmod.sample(start=opt, tune=3000, draws=5000, cores=4, chains=4, return_inferencedata=False)"
   ],
   "metadata": {
    "collapsed": false,
    "pycharm": {
     "name": "#%%\n"
    }
   }
  },
  {
   "cell_type": "markdown",
   "source": [
    "At this stage the sampler may print out some warnings that we don't have enough tuning steps! We can then see the results of our sampling by running `.summarize()`"
   ],
   "metadata": {
    "collapsed": false,
    "pycharm": {
     "name": "#%% md\n"
    }
   }
  },
  {
   "cell_type": "code",
   "execution_count": null,
   "outputs": [],
   "source": [
    "# print out a nice summary table (or list of tables) of our results!\n",
    "cmod.summarize(round_to=7, hdi_prob=0.68, fmt='wide')"
   ],
   "metadata": {
    "collapsed": false,
    "pycharm": {
     "name": "#%%\n"
    }
   }
  },
  {
   "cell_type": "markdown",
   "source": [
    "An important parameter to look out for here to check whether your samplings have converged is [`r_hat`](https://arviz-devs.github.io/arviz/api/generated/arviz.rhat.html#arviz.rhat). This [rank normalized R-hat diagnostic](https://arxiv.org/abs/1903.08008) tests for lack of convergence by comparing the variance between multiple chains to the variance within each chain. If convergence has been achieved, the between-chain and within-chain variances should be identicalm therefore, the closer it is to 1 the better the chance that your sampling successfully converged. If you're interested in the sampling see the [`PyMC3 docs`](https://docs.pymc.io/en/v3/index.html) for much more detail!"
   ],
   "metadata": {
    "collapsed": false,
    "pycharm": {
     "name": "#%% md\n"
    }
   }
  },
  {
   "cell_type": "markdown",
   "source": [
    "Then we can plot the posterior distributions and check that they look sensible (**but beware** if you've chosen the \"separate\" optimization method then it will plot the posteriors for every wavelength!):"
   ],
   "metadata": {
    "collapsed": false,
    "pycharm": {
     "name": "#%% md\n"
    }
   }
  },
  {
   "cell_type": "markdown",
   "source": [
    "But what are the results?? We can easily see the results using the handy `.get_results()` function:"
   ],
   "metadata": {
    "collapsed": false,
    "pycharm": {
     "name": "#%% md\n"
    }
   }
  },
  {
   "cell_type": "code",
   "execution_count": null,
   "outputs": [],
   "source": [
    "results = cmod.get_results(uncertainty=['hdi_16%','hdi_84%'])\n",
    "\n",
    "# results is a pandas dataframe, however, it doesn't show up properly on Git docs so I'll convert it to an\n",
    "# astropy table\n",
    "Table.from_pandas(results)"
   ],
   "metadata": {
    "collapsed": false,
    "pycharm": {
     "name": "#%%\n"
    }
   }
  },
  {
   "cell_type": "markdown",
   "source": [
    "We can also make a transmission spectrum table using `.make_transmission_spectrum_table() `"
   ],
   "metadata": {
    "collapsed": false,
    "pycharm": {
     "name": "#%% md\n"
    }
   }
  },
  {
   "cell_type": "code",
   "execution_count": null,
   "outputs": [],
   "source": [
    "# this will show errors for the models that aren't transit and return a list!\n",
    "transmission_spectrum = cmod.make_transmission_spectrum_table(uncertainty=['hdi_16%','hdi_84%'])\n",
    "\n",
    "Table.from_pandas(transmission_spectrum)"
   ],
   "metadata": {
    "collapsed": false,
    "pycharm": {
     "name": "#%%\n"
    }
   }
  },
  {
   "cell_type": "markdown",
   "source": [
    "We can also create (or call if you set `store_models=True`) the final best-fit models using the `.get_models()` function. This can take a minute if generating the models from parameters for lots of wavelengths."
   ],
   "metadata": {
    "collapsed": false,
    "pycharm": {
     "name": "#%% md\n"
    }
   }
  },
  {
   "cell_type": "code",
   "execution_count": null,
   "outputs": [],
   "source": [
    "models = cmod.get_model()\n",
    "models.keys()"
   ],
   "metadata": {
    "collapsed": false,
    "pycharm": {
     "name": "#%%\n"
    }
   }
  },
  {
   "cell_type": "markdown",
   "source": [
    "As the `.get_model()` process can take time to generate the models, we store the models for use later..."
   ],
   "metadata": {
    "collapsed": false,
    "pycharm": {
     "name": "#%% md\n"
    }
   }
  },
  {
   "cell_type": "code",
   "execution_count": null,
   "outputs": [],
   "source": [
    "cmod._fit_models.keys()"
   ],
   "metadata": {
    "collapsed": false,
    "pycharm": {
     "name": "#%%\n"
    }
   }
  },
  {
   "cell_type": "markdown",
   "source": [
    "## Plotting the final results"
   ],
   "metadata": {
    "collapsed": false,
    "pycharm": {
     "name": "#%% md\n"
    }
   }
  },
  {
   "cell_type": "markdown",
   "source": [
    "We have several different methods (mostly wrappers to `chromatic` functions) to plot the modelled results. I'll demonstrate several of them below:"
   ],
   "metadata": {
    "collapsed": false,
    "pycharm": {
     "name": "#%% md\n"
    }
   }
  },
  {
   "cell_type": "markdown",
   "source": [
    "`plot_model()` is an especially useful function for CombinedModels because it allows us to split the model into constituent models and see the relative contribution of each!"
   ],
   "metadata": {
    "collapsed": false,
    "pycharm": {
     "name": "#%% md\n"
    }
   }
  },
  {
   "cell_type": "code",
   "execution_count": null,
   "outputs": [],
   "source": [
    "cmod.plot_model(wavelength=3)"
   ],
   "metadata": {
    "collapsed": false,
    "pycharm": {
     "name": "#%%\n"
    }
   }
  },
  {
   "cell_type": "markdown",
   "source": [
    "We can also just choose to see a single model or wavelength:"
   ],
   "metadata": {
    "collapsed": false,
    "pycharm": {
     "name": "#%% md\n"
    }
   }
  },
  {
   "cell_type": "code",
   "execution_count": null,
   "outputs": [],
   "source": [
    "cmod._chromatic_models['transit'].plot_model(wavelength=0)"
   ],
   "metadata": {
    "collapsed": false,
    "pycharm": {
     "name": "#%%\n"
    }
   }
  },
  {
   "cell_type": "code",
   "execution_count": null,
   "outputs": [],
   "source": [
    "cmod._chromatic_models['exponential'].plot_model(wavelength=1)"
   ],
   "metadata": {
    "collapsed": false,
    "pycharm": {
     "name": "#%%\n"
    }
   }
  },
  {
   "cell_type": "markdown",
   "source": [
    "`.plot_lightcurves()` will plot the same lightcurves as before but now with our models on top!"
   ],
   "metadata": {
    "collapsed": false,
    "pycharm": {
     "name": "#%% md\n"
    }
   }
  },
  {
   "cell_type": "code",
   "execution_count": null,
   "outputs": [],
   "source": [
    "# plot the 2D light curves for each wavelength with the model (black) now overlaid\n",
    "cmod.plot_lightcurves()"
   ],
   "metadata": {
    "collapsed": false,
    "pycharm": {
     "name": "#%%\n"
    }
   }
  },
  {
   "cell_type": "code",
   "execution_count": null,
   "outputs": [],
   "source": [
    "cmod.plot_with_model_and_residuals()"
   ],
   "metadata": {
    "collapsed": false,
    "pycharm": {
     "name": "#%%\n"
    }
   }
  },
  {
   "cell_type": "code",
   "execution_count": null,
   "outputs": [],
   "source": [
    "# plot the 3D light curves (flux as a function of time and wavelength) with the residuals\n",
    "cmod.imshow_with_models()"
   ],
   "metadata": {
    "collapsed": false,
    "pycharm": {
     "name": "#%%\n"
    }
   }
  },
  {
   "cell_type": "markdown",
   "source": [
    "We can even make gifs to step through each wavelength:"
   ],
   "metadata": {
    "collapsed": false,
    "pycharm": {
     "name": "#%% md\n"
    }
   }
  },
  {
   "cell_type": "code",
   "execution_count": null,
   "outputs": [],
   "source": [
    "cmod.animate_with_models()#orientation='vertical', panelsize=(7,2))"
   ],
   "metadata": {
    "collapsed": false,
    "pycharm": {
     "name": "#%%\n"
    }
   }
  },
  {
   "cell_type": "markdown",
   "source": [
    "We can plot the transmission spectrum:"
   ],
   "metadata": {
    "collapsed": false,
    "pycharm": {
     "name": "#%% md\n"
    }
   }
  },
  {
   "cell_type": "code",
   "execution_count": null,
   "outputs": [],
   "source": [
    "cmod.plot_transmission_spectrum(uncertainty=['hdi_16%','hdi_84%'])\n",
    "plt.plot(SimulatedRainbow().wavelength, np.linspace(0.2, 0.15, SimulatedRainbow().nwave), label=\"True Rp/R*\")\n",
    "plt.legend();"
   ],
   "metadata": {
    "collapsed": false,
    "pycharm": {
     "name": "#%%\n"
    }
   }
  },
  {
   "cell_type": "markdown",
   "source": [
    "And assess the quality of our fit with a chi-squared test (with `.chi_squared`):"
   ],
   "metadata": {
    "collapsed": false,
    "pycharm": {
     "name": "#%% md\n"
    }
   }
  },
  {
   "cell_type": "code",
   "execution_count": null,
   "outputs": [],
   "source": [
    "cmod.chi_squared(plot=True)"
   ],
   "metadata": {
    "collapsed": false,
    "pycharm": {
     "name": "#%%\n"
    }
   }
  },
  {
   "cell_type": "markdown",
   "source": [
    "`animate_transmission_spectrum` will create a gif of the detrended lightcurves alongside the transmission spectrum as we step through wavelengths:"
   ],
   "metadata": {
    "collapsed": false,
    "pycharm": {
     "name": "#%% md\n"
    }
   }
  },
  {
   "cell_type": "code",
   "execution_count": null,
   "outputs": [],
   "source": [
    "# animate_transmission_spectrum(cmod.data_with_model, transmission_spectrum= transmission_spectrum['transit_radius_ratio'].values)"
   ],
   "metadata": {
    "collapsed": false,
    "pycharm": {
     "name": "#%%\n"
    }
   }
  }
 ],
 "metadata": {
  "kernelspec": {
   "display_name": "Python 3 (ipykernel)",
   "language": "python",
   "name": "python3"
  },
  "language_info": {
   "codemirror_mode": {
    "name": "ipython",
    "version": 3
   },
   "file_extension": ".py",
   "mimetype": "text/x-python",
   "name": "python",
   "nbconvert_exporter": "python",
   "pygments_lexer": "ipython3",
   "version": "3.9.12"
  }
 },
 "nbformat": 4,
 "nbformat_minor": 5
}
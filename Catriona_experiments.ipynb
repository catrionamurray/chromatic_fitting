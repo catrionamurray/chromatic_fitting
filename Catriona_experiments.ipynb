{
 "cells": [
  {
   "cell_type": "code",
   "execution_count": 1,
   "id": "01fe7b35",
   "metadata": {
    "pycharm": {
     "name": "#%%\n"
    },
    "scrolled": true
   },
   "outputs": [
    {
     "name": "stdout",
     "output_type": "stream",
     "text": [
      "Running on Python v3.9.12 | packaged by conda-forge | (main, Mar 24 2022, 23:23:20) \n",
      "[Clang 12.0.1 ]\n",
      "Running on numpy v1.22.3\n",
      "Running on chromatic v0.1.0\n",
      "Running on PyMC v3.11.2\n",
      "Running on ArviZ v0.12.0\n",
      "Running on Exoplanet v0.5.2\n"
     ]
    }
   ],
   "source": [
    "from experimental_chromatic_fitting import *\n",
    "from chromatic import Rainbow\n",
    "from pymc3 import Normal, Uniform, Model, HalfNormal,  plot_trace, sample_prior_predictive, sample_posterior_predictive\n",
    "from tqdm import tqdm\n",
    "from pymc3_ext import eval_in_model, optimize, sample\n",
    "from exoplanet import QuadLimbDark, ImpactParameter\n",
    "\n",
    "plt.matplotlib.style.use('default')"
   ]
  },
  {
   "cell_type": "code",
   "execution_count": null,
   "outputs": [],
   "source": [
    "## load Patricio's spectrum model:\n",
    "model_staticld, planet_params, wavelength,transmission = import_patricio_model()\n",
    "\n",
    "# add wavelength-dep limb-darkening coeffs:\n",
    "model_ld = add_ld_coeffs(model_staticld, planet_params, wavelength,transmission,mode=\"NIRCam_F322W2\",star_params = {\"M_H\": -0.03, \"Teff\": 5326.6, \"logg\": 4.38933},plot=True)\n",
    "\n",
    "# return synthetic rainbow + rainbow with injected transit:\n",
    "bintime=5./60\n",
    "binwave=0.15\n",
    "\n",
    "# calculate the semi-major axis in stellar radii from the value in AU\n",
    "# a_AU = 0.0486 # Faedi et al. 2011\n",
    "# solar_radius_AU = 0.00465047\n",
    "# stellar_radius = 0.895\n",
    "# a_stellar_radii = a_AU/(solar_radius_AU * stellar_radius)\n",
    "\n",
    "injplanet_params = {\n",
    "            \"t0\": 0,\n",
    "            \"per\": 4.055259, # days, Faedi et al. 2011\n",
    "            \"a\": 11.37, # stellar radii\n",
    "            \"inc\": 87.83, # degrees, Faedi et al. 2011\n",
    "            \"ecc\": 0,\n",
    "            \"w\": 0,\n",
    "#             \"limb_dark\": \"nonlinear\",\n",
    "#             \"u\": [0.0,0.2379,0.0,0.4615],\n",
    "        }\n",
    "# injplanet_params = {}#{'per':2}\n",
    "r,i = inject_spectrum(model_ld, snr=1000, dt=bintime, res=50, planet_params=injplanet_params)\n",
    "\n",
    "# bin in time and wavelength (to speed up fitting)\n",
    "b_withouttransit = r.bin(nwavelengths=15,\n",
    "                         dt=bintime * u.hour)#dw=binwave * u.micron,\n",
    "b_withtransit = i.bin(nwavelengths=15,\n",
    "                      dt=bintime * u.hour)\n",
    "b_withtransit.save(\"test/b_withtransit_nw15.rainbow.npy\")"
   ],
   "metadata": {
    "collapsed": false,
    "pycharm": {
     "name": "#%%\n"
    }
   }
  },
  {
   "cell_type": "code",
   "execution_count": null,
   "outputs": [],
   "source": [
    "# load simulated rainbow:\n",
    "b_withtransit = Rainbow(\"test/b_withtransit_dw015.rainbow.npy\")\n",
    "# load Eureka! rainbow:\n",
    "# b_withtransit = Rainbow(\"ERS_eureka/S3_nircam_wfss_template_ap8_bg16_Table_Save.txt\")\n",
    "# load jwst rainbow:\n",
    "# b_withtransit = Rainbow(\"ERS_jwst/*x1dints.fits\")"
   ],
   "metadata": {
    "collapsed": false,
    "pycharm": {
     "name": "#%%\n"
    }
   }
  },
  {
   "cell_type": "code",
   "execution_count": null,
   "outputs": [],
   "source": [
    "b_withtransit.imshow();\n",
    "b_withtransit.imshow_quantities();\n",
    "# b_withtransit.save(\"test/b_withtransit.rainbow.npy\")"
   ],
   "metadata": {
    "collapsed": false,
    "pycharm": {
     "name": "#%%\n"
    }
   }
  },
  {
   "cell_type": "code",
   "execution_count": null,
   "outputs": [],
   "source": [
    "bb = b_withtransit._create_copy()\n",
    "# .bin(nwavelengths=b_withtransit.nwave)\n",
    "# bb = bb._create_copy()"
   ],
   "metadata": {
    "collapsed": false,
    "pycharm": {
     "name": "#%%\n"
    }
   }
  },
  {
   "cell_type": "code",
   "execution_count": null,
   "outputs": [],
   "source": [
    "bb.plot()"
   ],
   "metadata": {
    "collapsed": false,
    "pycharm": {
     "name": "#%%\n"
    }
   }
  },
  {
   "cell_type": "code",
   "execution_count": null,
   "outputs": [],
   "source": [
    "t = TransitModel()"
   ],
   "metadata": {
    "collapsed": false,
    "pycharm": {
     "name": "#%%\n"
    }
   }
  },
  {
   "cell_type": "code",
   "execution_count": null,
   "outputs": [],
   "source": [
    "t.initialize_empty_model()\n",
    "\n",
    "# If I call something r_star instead of stellar_radius I will get two variables\n",
    "t.setup_parameters(\n",
    "#      period=Fitted(Uniform,testval=4.055259,lower=0.000009),\n",
    "                  period=4.055259,\n",
    "#                    t0=Fitted(Normal,mu=0.0,sigma=0.05),\n",
    "                   epoch=Fitted(Normal,mu=0.0,sigma=0.0025),\n",
    "#                    stellar_radius=0.895,\n",
    "#                    stellar_mass=0.93,\n",
    "                   stellar_radius = Fitted(Uniform, lower=0.890, upper=0.9,testval=0.895),\n",
    "                   stellar_mass =Fitted(Uniform, lower=0.9, upper=1,testval=0.93),\n",
    "                   radius_ratio=WavelikeFitted(Normal, mu=0.15, sigma=0.05),\n",
    "#                    b=Fitted(ImpactParameter,ror=0.15,testval=0.44),\n",
    "                   impact_parameter=Fitted(ImpactParameter,ror=0.15,testval=0.44),\n",
    "                   limb_darkening=WavelikeFitted(QuadLimbDark,testval=[0.05,0.35]),\n",
    "                   baseline=WavelikeFitted(Normal,mu=1.0,sigma=0.0025))\n",
    "t.summarize_parameters()"
   ],
   "metadata": {
    "collapsed": false,
    "pycharm": {
     "name": "#%%\n"
    }
   }
  },
  {
   "cell_type": "code",
   "execution_count": null,
   "outputs": [],
   "source": [
    "t.setup_orbit()"
   ],
   "metadata": {
    "collapsed": false,
    "pycharm": {
     "name": "#%%\n"
    }
   }
  },
  {
   "cell_type": "code",
   "execution_count": null,
   "outputs": [],
   "source": [
    "t.attach_data(bb)"
   ],
   "metadata": {
    "collapsed": false,
    "pycharm": {
     "name": "#%%\n"
    }
   }
  },
  {
   "cell_type": "code",
   "execution_count": null,
   "outputs": [],
   "source": [
    "t.plot_orbit()"
   ],
   "metadata": {
    "collapsed": false,
    "pycharm": {
     "name": "#%%\n"
    }
   }
  },
  {
   "cell_type": "code",
   "execution_count": null,
   "outputs": [],
   "source": [
    "print(t.model)"
   ],
   "metadata": {
    "collapsed": false,
    "pycharm": {
     "name": "#%%\n"
    }
   }
  },
  {
   "cell_type": "code",
   "execution_count": null,
   "outputs": [],
   "source": [
    "t.setup_lightcurves()"
   ],
   "metadata": {
    "collapsed": false,
    "pycharm": {
     "name": "#%%\n"
    }
   }
  },
  {
   "cell_type": "code",
   "execution_count": null,
   "outputs": [],
   "source": [
    "t.setup_likelihood()"
   ],
   "metadata": {
    "collapsed": false,
    "pycharm": {
     "name": "#%%\n"
    }
   }
  },
  {
   "cell_type": "code",
   "execution_count": null,
   "outputs": [],
   "source": [
    "prior_predictive_trace = t.sample_prior()\n",
    "# with t.model:\n",
    "#     prior_predictive_trace = sample_prior_predictive(3)"
   ],
   "metadata": {
    "collapsed": false,
    "pycharm": {
     "name": "#%%\n"
    }
   }
  },
  {
   "cell_type": "code",
   "execution_count": null,
   "outputs": [],
   "source": [
    "for i in range(3):\n",
    "    flux_for_this_sample = np.array([prior_predictive_trace[f'wavelength_{w}_data'][i] for w in range(bb.nwave)])\n",
    "    bb.fluxlike[f'prior-predictive-{i}'] = flux_for_this_sample\n",
    "bb.imshow_quantities()\n",
    "# plt.plot(bb.fluxlike[f'prior-predictive-{2}'][0]);"
   ],
   "metadata": {
    "collapsed": false,
    "pycharm": {
     "name": "#%%\n"
    }
   }
  },
  {
   "cell_type": "code",
   "execution_count": null,
   "outputs": [],
   "source": [
    "with t.model:\n",
    "    opt = optimize(start=t.model.test_point)\n",
    "    opt = optimize(start=opt)\n",
    "    trace = sample(start=opt,tune=8000, draws=12000, cores=12, chains=4)\n",
    "    summary = az.summary(trace, round_to=7, fmt='wide')\n",
    "    print(summary)"
   ],
   "metadata": {
    "collapsed": false,
    "pycharm": {
     "name": "#%%\n"
    }
   }
  },
  {
   "cell_type": "code",
   "execution_count": null,
   "outputs": [],
   "source": [
    "with t.model:\n",
    "    trace = sample(tune=8000, draws=12000, cores=12, chains=4)\n",
    "    summary = az.summary(trace, round_to=7, fmt='wide')\n",
    "    print(summary)"
   ],
   "metadata": {
    "collapsed": false,
    "pycharm": {
     "name": "#%%\n"
    }
   }
  },
  {
   "cell_type": "code",
   "execution_count": null,
   "outputs": [],
   "source": [
    "vars_to_opt = [t.model[f\"radius_ratio_w{w}\"] for w in range(bb.nwave)]\n",
    "# vars_to_opt.append([t.model[f\"limb_darkening_w{w}\"] for w in range(bb.nwave)])\n",
    "\n",
    "with t.model:\n",
    "    opt = optimize(start=t.model.test_point)\n",
    "    opt = optimize(start=opt, vars=vars_to_opt)\n",
    "    trace = sample(start=opt,tune=30000, draws=30000, cores=12, chains=4)"
   ],
   "metadata": {
    "collapsed": false,
    "pycharm": {
     "name": "#%%\n"
    }
   }
  },
  {
   "cell_type": "code",
   "execution_count": null,
   "outputs": [],
   "source": [
    "with t.model:\n",
    "    summary = az.summary(trace, round_to=7, fmt='wide')\n",
    "    print(summary)"
   ],
   "metadata": {
    "collapsed": false,
    "pycharm": {
     "name": "#%%\n"
    }
   }
  },
  {
   "cell_type": "code",
   "execution_count": null,
   "outputs": [],
   "source": [
    "posterior_predictive_trace = t.sample_posterior(trace,ndraws=50)"
   ],
   "metadata": {
    "collapsed": false,
    "pycharm": {
     "name": "#%%\n"
    }
   }
  },
  {
   "cell_type": "code",
   "execution_count": null,
   "outputs": [],
   "source": [
    "for i in range(5):\n",
    "    flux_for_this_sample = np.array([posterior_predictive_trace[f'wavelength_{w}_data'][i] for w in range(bb.nwave)])\n",
    "    bb.fluxlike[f'posterior-predictive-{i}'] = flux_for_this_sample\n",
    "    \n",
    "#     plt.figure()\n",
    "#     bb.plot()\n",
    "#     plt.plot(bb.time,bb.fluxlike[f'posterior-predictive-{i}'][0]);\n",
    "#     plt.show()\n",
    "#     plt.close()\n",
    "bb.imshow_quantities()"
   ],
   "metadata": {
    "collapsed": false,
    "pycharm": {
     "name": "#%%\n"
    }
   }
  },
  {
   "cell_type": "code",
   "execution_count": null,
   "outputs": [],
   "source": [
    "offset = 0\n",
    "fig, ax = plt.subplots(figsize=(7,10))\n",
    "from matplotlib.pyplot import cm\n",
    "color=cm.viridis(np.linspace(0,1,bb.nwave))\n",
    "firstplot = True\n",
    "for w in range(bb.nwave):\n",
    "    for i in range(50):\n",
    "        if firstplot:\n",
    "            plt.plot(bb.time, offset + posterior_predictive_trace[f'wavelength_{w}_data'][i],color='gray',alpha=0.5,label='Posterior Sample\\n (n=50)')\n",
    "            firstplot=False\n",
    "        else:\n",
    "            plt.plot(bb.time, offset + posterior_predictive_trace[f'wavelength_{w}_data'][i],color='gray',alpha=0.5)\n",
    "    plt.plot(bb.time, offset + bb.flux[w],linestyle=\"None\", markersize=8, marker='.', color=color[w],label=\"%.1f microns\"%bb.wavelength[w].to_value())\n",
    "    offset = offset-0.04\n",
    "plt.ylabel(\"Relative Flux + offset\")\n",
    "plt.xlabel(\"Time from Transit Epoch\")\n",
    "plt.legend(loc='upper right',fontsize=8)"
   ],
   "metadata": {
    "collapsed": false,
    "pycharm": {
     "name": "#%%\n"
    }
   }
  },
  {
   "cell_type": "code",
   "execution_count": null,
   "outputs": [],
   "source": [
    "summary"
   ],
   "metadata": {
    "collapsed": false,
    "pycharm": {
     "name": "#%%\n"
    }
   }
  },
  {
   "cell_type": "code",
   "execution_count": null,
   "outputs": [],
   "source": [
    "# summary\n",
    "# for k,v in summary['mean'].items():\n",
    "#     if \"radius_r\"\n",
    "model_staticld, planet_params, wavelength,transmission = import_patricio_model()\n",
    "\n",
    "plt.figure(figsize=(7,4))\n",
    "plt.plot(wavelength,transmission*100,color='cyan',alpha=0.5,label='Spectrum Model')\n",
    "for w in range(bb.nwave):\n",
    "    rr = (summary['mean'][f\"radius_ratio_w{w}\"]**2)*100\n",
    "    hdi3 = (summary['hdi_3%'][f\"radius_ratio_w{w}\"]**2)*100\n",
    "    hdi97 = (summary['hdi_97%'][f\"radius_ratio_w{w}\"]**2)*100\n",
    "    plt.plot(bb.wavelength[w],rr,'k.',markersize=6)\n",
    "    plt.errorbar(bb.wavelength[w],rr, xerr=0.05*u.micron,\n",
    "                 yerr=np.array([np.abs(hdi3-rr),np.abs(hdi97-rr)]).reshape((2,1)),c='k',alpha=0.5,capsize=3)\n",
    "\n",
    "plt.ylabel(\"Transit Depth [%]\")\n",
    "plt.xlabel(\"Wavelength [microns]\")\n",
    "plt.xlim(2,4.5)\n",
    "plt.legend()\n",
    "plt.show()"
   ],
   "metadata": {
    "collapsed": false,
    "pycharm": {
     "name": "#%%\n"
    }
   }
  },
  {
   "cell_type": "code",
   "execution_count": null,
   "outputs": [],
   "source": [
    "az.plot_trace(trace);"
   ],
   "metadata": {
    "collapsed": false,
    "pycharm": {
     "name": "#%%\n"
    }
   }
  },
  {
   "cell_type": "code",
   "execution_count": 49,
   "id": "05adf54e",
   "metadata": {
    "pycharm": {
     "name": "#%%\n"
    }
   },
   "outputs": [
    {
     "data": {
      "text/plain": [
       "{'epoch': array(0.),\n",
       " 'impact_parameter_impact__': array(-0.47849024),\n",
       " 'stellar_radius_interval__': array(-0.3292585),\n",
       " 'stellar_mass_interval__': array(-0.25398823),\n",
       " 'limb_darkening_w0_quadlimbdark__': array([-1.65822808, -2.7080502 ]),\n",
       " 'radius_ratio_w0': array(0.15),\n",
       " 'baseline_w0': array(1.)}"
      ]
     },
     "execution_count": 49,
     "metadata": {},
     "output_type": "execute_result"
    }
   ],
   "source": [
    "t.model.test_point"
   ]
  },
  {
   "cell_type": "code",
   "execution_count": 50,
   "id": "da473541",
   "metadata": {
    "pycharm": {
     "name": "#%%\n"
    }
   },
   "outputs": [
    {
     "data": {
      "text/plain": [
       "[Elemwise{add,no_inplace}.0]"
      ]
     },
     "execution_count": 50,
     "metadata": {},
     "output_type": "execute_result"
    }
   ],
   "source": [
    "t.model_chromatic_flux"
   ]
  },
  {
   "cell_type": "code",
   "execution_count": 89,
   "id": "1c97c61d",
   "metadata": {
    "pycharm": {
     "name": "#%%\n"
    }
   },
   "outputs": [
    {
     "data": {
      "text/latex": [
       "$$\n",
       "                \\begin{array}{rcl}\n",
       "                \\text{epoch} &\\sim & \\text{Normal}\\\\\\text{impact_parameter_impact__} &\\sim & \\text{TransformedDistribution}\\\\\\text{stellar_radius_interval__} &\\sim & \\text{TransformedDistribution}\\\\\\text{stellar_mass_interval__} &\\sim & \\text{TransformedDistribution}\\\\\\text{limb_darkening_w0_quadlimbdark__} &\\sim & \\text{TransformedDistribution}\\\\\\text{radius_ratio_w0} &\\sim & \\text{Normal}\\\\\\text{baseline_w0} &\\sim & \\text{Normal}\\\\\\text{limb_darkening_w1_quadlimbdark__} &\\sim & \\text{TransformedDistribution}\\\\\\text{radius_ratio_w1} &\\sim & \\text{Normal}\\\\\\text{baseline_w1} &\\sim & \\text{Normal}\\\\\\text{limb_darkening_w2_quadlimbdark__} &\\sim & \\text{TransformedDistribution}\\\\\\text{radius_ratio_w2} &\\sim & \\text{Normal}\\\\\\text{baseline_w2} &\\sim & \\text{Normal}\\\\\\text{limb_darkening_w3_quadlimbdark__} &\\sim & \\text{TransformedDistribution}\\\\\\text{radius_ratio_w3} &\\sim & \\text{Normal}\\\\\\text{baseline_w3} &\\sim & \\text{Normal}\\\\\\text{limb_darkening_w4_quadlimbdark__} &\\sim & \\text{TransformedDistribution}\\\\\\text{radius_ratio_w4} &\\sim & \\text{Normal}\\\\\\text{baseline_w4} &\\sim & \\text{Normal}\\\\\\text{limb_darkening_w5_quadlimbdark__} &\\sim & \\text{TransformedDistribution}\\\\\\text{radius_ratio_w5} &\\sim & \\text{Normal}\\\\\\text{baseline_w5} &\\sim & \\text{Normal}\\\\\\text{limb_darkening_w6_quadlimbdark__} &\\sim & \\text{TransformedDistribution}\\\\\\text{radius_ratio_w6} &\\sim & \\text{Normal}\\\\\\text{baseline_w6} &\\sim & \\text{Normal}\\\\\\text{limb_darkening_w7_quadlimbdark__} &\\sim & \\text{TransformedDistribution}\\\\\\text{radius_ratio_w7} &\\sim & \\text{Normal}\\\\\\text{baseline_w7} &\\sim & \\text{Normal}\\\\\\text{limb_darkening_w8_quadlimbdark__} &\\sim & \\text{TransformedDistribution}\\\\\\text{radius_ratio_w8} &\\sim & \\text{Normal}\\\\\\text{baseline_w8} &\\sim & \\text{Normal}\\\\\\text{limb_darkening_w9_quadlimbdark__} &\\sim & \\text{TransformedDistribution}\\\\\\text{radius_ratio_w9} &\\sim & \\text{Normal}\\\\\\text{baseline_w9} &\\sim & \\text{Normal}\\\\\\text{impact_parameter} &\\sim & \\text{ImpactParameter}\\\\\\text{stellar_radius} &\\sim & \\text{Uniform}\\\\\\text{stellar_mass} &\\sim & \\text{Uniform}\\\\\\text{limb_darkening_w0} &\\sim & \\text{QuadLimbDark}\\\\\\text{limb_darkening_w1} &\\sim & \\text{QuadLimbDark}\\\\\\text{limb_darkening_w2} &\\sim & \\text{QuadLimbDark}\\\\\\text{limb_darkening_w3} &\\sim & \\text{QuadLimbDark}\\\\\\text{limb_darkening_w4} &\\sim & \\text{QuadLimbDark}\\\\\\text{limb_darkening_w5} &\\sim & \\text{QuadLimbDark}\\\\\\text{limb_darkening_w6} &\\sim & \\text{QuadLimbDark}\\\\\\text{limb_darkening_w7} &\\sim & \\text{QuadLimbDark}\\\\\\text{limb_darkening_w8} &\\sim & \\text{QuadLimbDark}\\\\\\text{limb_darkening_w9} &\\sim & \\text{QuadLimbDark}\\\\\\text{wavelength_0_data} &\\sim & \\text{Normal}\\\\\\text{wavelength_1_data} &\\sim & \\text{Normal}\\\\\\text{wavelength_2_data} &\\sim & \\text{Normal}\\\\\\text{wavelength_3_data} &\\sim & \\text{Normal}\\\\\\text{wavelength_4_data} &\\sim & \\text{Normal}\\\\\\text{wavelength_5_data} &\\sim & \\text{Normal}\\\\\\text{wavelength_6_data} &\\sim & \\text{Normal}\\\\\\text{wavelength_7_data} &\\sim & \\text{Normal}\\\\\\text{wavelength_8_data} &\\sim & \\text{Normal}\\\\\\text{wavelength_9_data} &\\sim & \\text{Normal}\n",
       "                \\end{array}\n",
       "                $$"
      ],
      "text/plain": [
       "<pymc3.model.Model at 0x1ca24fb20>"
      ]
     },
     "execution_count": 89,
     "metadata": {},
     "output_type": "execute_result"
    }
   ],
   "source": [
    "t.model"
   ]
  },
  {
   "cell_type": "code",
   "execution_count": 171,
   "id": "001b65e7",
   "metadata": {
    "pycharm": {
     "name": "#%%\n"
    }
   },
   "outputs": [
    {
     "name": "stdout",
     "output_type": "stream",
     "text": [
      "wavelength_0_data ~ Normal\n"
     ]
    }
   ],
   "source": [
    "print(t.model['wavelength_0_data'])"
   ]
  },
  {
   "cell_type": "code",
   "execution_count": null,
   "id": "d9fd425b",
   "metadata": {
    "pycharm": {
     "name": "#%%\n"
    }
   },
   "outputs": [],
   "source": []
  }
 ],
 "metadata": {
  "kernelspec": {
   "display_name": "Python 3 (ipykernel)",
   "language": "python",
   "name": "python3"
  },
  "language_info": {
   "codemirror_mode": {
    "name": "ipython",
    "version": 3
   },
   "file_extension": ".py",
   "mimetype": "text/x-python",
   "name": "python",
   "nbconvert_exporter": "python",
   "pygments_lexer": "ipython3",
   "version": "3.9.12"
  }
 },
 "nbformat": 4,
 "nbformat_minor": 5
}
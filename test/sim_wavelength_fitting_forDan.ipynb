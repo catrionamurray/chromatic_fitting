{
 "cells": [
  {
   "cell_type": "code",
   "execution_count": 3,
   "id": "334b62b1",
   "metadata": {
    "pycharm": {
     "name": "#%%\n"
    }
   },
   "outputs": [],
   "source": [
    "import numpy as np\n",
    "import exoplanet as xo\n",
    "from astropy import units as u\n",
    "import math\n",
    "import arviz as az\n",
    "import pymc3 as pm\n",
    "import pymc3_ext as pmx\n",
    "import matplotlib.pyplot as plt\n",
    "from collections import OrderedDict\n",
    "\n",
    "R_sun = 696340000 * u.m\n",
    "M_sun = 1.989 * 10 ** 30 * u.kg\n",
    "R_earth = 6371000 * u.m"
   ]
  },
  {
   "cell_type": "code",
   "execution_count": 4,
   "id": "c3996ff1",
   "metadata": {
    "pycharm": {
     "name": "#%%\n"
    }
   },
   "outputs": [
    {
     "data": {
      "image/png": "[encoded data removed]",
      "text/plain": [
       "<Figure size 432x288 with 1 Axes>"
      ]
     },
     "metadata": {
      "needs_background": "light"
     },
     "output_type": "display_data"
    }
   ],
   "source": [
    "random = np.random.default_rng(123)\n",
    "num_transits = 4\n",
    "t = np.arange(0, 35, 0.02)\n",
    "yerr = 5e-4\n",
    "t0 = 4.35\n",
    "t1 = 33.2\n",
    "period = (t1 - t0) / num_transits\n",
    "u = [0.3,0.2]\n",
    "r = 0.04\n",
    "b = 0.35\n",
    "\n",
    "# Set up a Keplerian orbit for the planet\n",
    "orbit = xo.orbits.KeplerianOrbit(period=period, t0=t0, b=b)\n",
    "y = (xo.LimbDarkLightCurve(u[0], u[1]).get_light_curve(orbit=orbit, r=r, t=t)[:, 0]).eval()\n",
    "y += yerr * random.normal(size=len(y))\n",
    "     \n",
    "plt.plot(t,y,'k.');"
   ]
  },
  {
   "cell_type": "code",
   "execution_count": 5,
   "id": "a8a731b5",
   "metadata": {
    "pycharm": {
     "name": "#%%\n"
    }
   },
   "outputs": [],
   "source": [
    "datasets = OrderedDict([])\n",
    "datasets['wavelength_1'] = (t,y,yerr,r**2,u)"
   ]
  },
  {
   "cell_type": "code",
   "execution_count": 9,
   "id": "588701cb",
   "metadata": {
    "pycharm": {
     "name": "#%%\n"
    }
   },
   "outputs": [
    {
     "name": "stderr",
     "output_type": "stream",
     "text": [
      "optimizing logp for variables: [wavelength_1_depth, wavelength_1_u, b, P, t0, r_s, m_s]\n"
     ]
    },
    {
     "data": {
      "text/html": [
       "\n",
       "    <div>\n",
       "        <style>\n",
       "            /* Turns off some styling */\n",
       "            progress {\n",
       "                /* gets rid of default border in Firefox and Opera. */\n",
       "                border: none;\n",
       "                /* Needs to be in here for Safari polyfill so background images work as expected. */\n",
       "                background-size: auto;\n",
       "            }\n",
       "            .progress-bar-interrupted, .progress-bar-interrupted::-webkit-progress-bar {\n",
       "                background: #F44336;\n",
       "            }\n",
       "        </style>\n",
       "      <progress value='87' class='' max='87' style='width:300px; height:20px; vertical-align: middle;'></progress>\n",
       "      100.00% [87/87 00:00<00:00 logp = 1.078e+04]\n",
       "    </div>\n",
       "    "
      ],
      "text/plain": [
       "<IPython.core.display.HTML object>"
      ]
     },
     "metadata": {},
     "output_type": "display_data"
    },
    {
     "name": "stdout",
     "output_type": "stream",
     "text": [
      "\n"
     ]
    },
    {
     "name": "stderr",
     "output_type": "stream",
     "text": [
      "message: Desired error not necessarily achieved due to precision loss.\n",
      "logp: 10721.677115545592 -> 10779.843919243636\n",
      "optimizing logp for variables: [wavelength_1_u, wavelength_1_depth]\n"
     ]
    },
    {
     "data": {
      "text/html": [
       "\n",
       "    <div>\n",
       "        <style>\n",
       "            /* Turns off some styling */\n",
       "            progress {\n",
       "                /* gets rid of default border in Firefox and Opera. */\n",
       "                border: none;\n",
       "                /* Needs to be in here for Safari polyfill so background images work as expected. */\n",
       "                background-size: auto;\n",
       "            }\n",
       "            .progress-bar-interrupted, .progress-bar-interrupted::-webkit-progress-bar {\n",
       "                background: #F44336;\n",
       "            }\n",
       "        </style>\n",
       "      <progress value='2' class='' max='2' style='width:300px; height:20px; vertical-align: middle;'></progress>\n",
       "      100.00% [2/2 00:00<00:00 logp = 1.078e+04]\n",
       "    </div>\n",
       "    "
      ],
      "text/plain": [
       "<IPython.core.display.HTML object>"
      ]
     },
     "metadata": {},
     "output_type": "display_data"
    },
    {
     "name": "stdout",
     "output_type": "stream",
     "text": [
      "\n"
     ]
    },
    {
     "name": "stderr",
     "output_type": "stream",
     "text": [
      "message: Optimization terminated successfully.\n",
      "logp: 10779.843919243636 -> 10779.843919243636\n",
      "/Users/catrionamurray/opt/anaconda3/envs/ers-transit/lib/python3.9/site-packages/pymc3_ext/sampling/sampling.py:109: FutureWarning: In v4.0, pm.sample will return an `arviz.InferenceData` object instead of a `MultiTrace` by default. You can pass return_inferencedata=True or return_inferencedata=False to be safe and silence this warning.\n",
      "  return pm.sample(draws=draws, tune=tune, model=model, step=step, **kwargs)\n",
      "Multiprocess sampling (4 chains in 12 jobs)\n",
      "NUTS: [wavelength_1_depth, wavelength_1_u, b, P, t0, r_s, m_s]\n"
     ]
    },
    {
     "data": {
      "text/html": [
       "\n",
       "    <div>\n",
       "        <style>\n",
       "            /* Turns off some styling */\n",
       "            progress {\n",
       "                /* gets rid of default border in Firefox and Opera. */\n",
       "                border: none;\n",
       "                /* Needs to be in here for Safari polyfill so background images work as expected. */\n",
       "                background-size: auto;\n",
       "            }\n",
       "            .progress-bar-interrupted, .progress-bar-interrupted::-webkit-progress-bar {\n",
       "                background: #F44336;\n",
       "            }\n",
       "        </style>\n",
       "      <progress value='48000' class='' max='48000' style='width:300px; height:20px; vertical-align: middle;'></progress>\n",
       "      100.00% [48000/48000 03:11<00:00 Sampling 4 chains, 0 divergences]\n",
       "    </div>\n",
       "    "
      ],
      "text/plain": [
       "<IPython.core.display.HTML object>"
      ]
     },
     "metadata": {},
     "output_type": "display_data"
    },
    {
     "name": "stderr",
     "output_type": "stream",
     "text": [
      "/Users/catrionamurray/opt/anaconda3/envs/ers-transit/lib/python3.9/site-packages/scipy/stats/_continuous_distns.py:624: RuntimeWarning: overflow encountered in _beta_ppf\n",
      "  return _boost._beta_ppf(q, a, b)\n",
      "/Users/catrionamurray/opt/anaconda3/envs/ers-transit/lib/python3.9/site-packages/scipy/stats/_continuous_distns.py:624: RuntimeWarning: overflow encountered in _beta_ppf\n",
      "  return _boost._beta_ppf(q, a, b)\n",
      "/Users/catrionamurray/opt/anaconda3/envs/ers-transit/lib/python3.9/site-packages/scipy/stats/_continuous_distns.py:624: RuntimeWarning: overflow encountered in _beta_ppf\n",
      "  return _boost._beta_ppf(q, a, b)\n",
      "/Users/catrionamurray/opt/anaconda3/envs/ers-transit/lib/python3.9/site-packages/scipy/stats/_continuous_distns.py:624: RuntimeWarning: overflow encountered in _beta_ppf\n",
      "  return _boost._beta_ppf(q, a, b)\n",
      "Sampling 4 chains for 4_000 tune and 8_000 draw iterations (16_000 + 32_000 draws total) took 195 seconds.\n",
      "The number of effective samples is smaller than 25% for some parameters.\n"
     ]
    }
   ],
   "source": [
    "with pm.Model() as model:\n",
    "    # Stellar parameters\n",
    "    # -----------------\n",
    "    m_s = pm.Normal('m_s', 1, 0.05)\n",
    "    r_s = pm.Normal('r_s', 1, 0.05)\n",
    "    # Orbital parameters\n",
    "    # -----------------\n",
    "    t0 = pm.Normal(\"t0\", mu=4.35, sigma=1.0)\n",
    "    p = pm.Normal('P', 7.2, 0.5)  # If log_p, use Deterministic here : pm.Deterministic(“period”, tt.exp(log_period))\n",
    "    b = xo.distributions.ImpactParameter(\"b\", ror=0.04, testval=0.35)\n",
    "    # b=pm.Deterministic(‘b’,tt.as_tensor_variable(0))\n",
    "\n",
    "    # Keplerian orbit\n",
    "    # ---------------\n",
    "    orbit = xo.orbits.KeplerianOrbit(period=p, t0=t0, r_star=r_s, b=b, m_star=m_s)\n",
    "#     pm.Deterministic('a', orbit.a)\n",
    "#     pm.Deterministic('i', orbit.incl * 180 / np.pi)\n",
    "#     pm.Deterministic('a/r_s', orbit.a / orbit.r_star)\n",
    "    # Loop over the instruments\n",
    "    # -------------------------\n",
    "    # depth = []\n",
    "    for n, (name, (x, y, yerr, d, ldc)) in enumerate(datasets.items()):\n",
    "        # We define the per-instrument parameters in a submodel so that we don’t have to prefix the names manually\n",
    "#         with pm.Model(name=name, model=model):\n",
    "        # The limb darkening #It’s the same filter in this case\n",
    "        u = xo.QuadLimbDark(f'{name}_u', testval = np.array(ldc))\n",
    "        star = xo.LimbDarkLightCurve(u)\n",
    "        # The radius ratio\n",
    "        depth = pm.Uniform(f'{name}_depth', 0.001, 0.01, testval = d)  # Prior normal sur log(param) = prior uniform sur param\n",
    "        # depth.append(depths)\n",
    "        # depth=pm.Deterministic(“depth”,tt.as_tensor_variable(4e-3))\n",
    "        ror = pm.Deterministic(f'{name}_ror', star.get_ror_from_approx_transit_depth(depth, b))\n",
    "        r_p = pm.Deterministic(f'{name}_r_p', ror * r_s)  # In solar radius\n",
    "#       r = pm.Deterministic('r', r_p * 1 / R_sun)\n",
    "        # starry light-curve\n",
    "        light_curves = star.get_light_curve(orbit=orbit, r=r_p, t=x)\n",
    "        transit = pm.Deterministic(f'{name}_light_curves', pm.math.sum(light_curves, axis=-1))\n",
    "        mu = pm.Deterministic(f'{name}_mu', transit)\n",
    "        # Likelihood function\n",
    "        pm.Normal(f'{name}_obs', mu = mu, sd = yerr, observed = y)\n",
    "        # Maximum a posteriori\n",
    "        # --------------------\n",
    "            \n",
    "    opt = pmx.optimize(start=model.test_point)\n",
    "    opt = pmx.optimize(start=opt, vars=[depth,u])\n",
    "    # opt = pmx.optimize(start=opt, vars=[depth[1]])\n",
    "    \n",
    "    trace = pmx.sample(\n",
    "            tune=4000,\n",
    "            draws=8000,\n",
    "            start=opt,\n",
    "            cores=12,\n",
    "            chains=4,\n",
    "            target_accept=0.9,\n",
    "        )"
   ]
  },
  {
   "cell_type": "code",
   "execution_count": 18,
   "id": "8c5d057d",
   "metadata": {
    "pycharm": {
     "name": "#%%\n"
    }
   },
   "outputs": [
    {
     "data": {
      "text/plain": [
       "Text(0, 0.5, 'relative flux')"
      ]
     },
     "execution_count": 18,
     "metadata": {},
     "output_type": "execute_result"
    },
    {
     "data": {
      "image/png": "[encoded data removed]",
      "text/plain": [
       "<Figure size 432x288 with 1 Axes>"
      ]
     },
     "metadata": {
      "needs_background": "light"
     },
     "output_type": "display_data"
    }
   ],
   "source": [
    "# Plot the results\n",
    "q16, q50, q84 = np.percentile(\n",
    "    trace[\"wavelength_1_light_curves\"], [16, 50, 84], axis=(0)\n",
    ")\n",
    "plt.plot(t, y, \".k\", ms=2, label=\"data\")\n",
    "plt.plot(t, q50)\n",
    "plt.fill_between(t, q16, q84, alpha=0.3, label=\"posterior\")\n",
    "plt.xlim(0.0, 35)\n",
    "plt.legend(fontsize=12, loc=3)\n",
    "plt.xlabel(\"time [days]\")\n",
    "plt.ylabel(\"relative flux\")"
   ]
  },
  {
   "cell_type": "code",
   "execution_count": 12,
   "id": "a6d83bfd",
   "metadata": {
    "pycharm": {
     "name": "#%%\n"
    }
   },
   "outputs": [
    {
     "data": {
      "text/latex": [
       "$$\n",
       "                \\begin{array}{rcl}\n",
       "                \\text{m_s} &\\sim & \\text{Normal}\\\\\\text{r_s} &\\sim & \\text{Normal}\\\\\\text{t0} &\\sim & \\text{Normal}\\\\\\text{P} &\\sim & \\text{Normal}\\\\\\text{b_impact__} &\\sim & \\text{TransformedDistribution}\\\\\\text{wavelength_1_u_quadlimbdark__} &\\sim & \\text{TransformedDistribution}\\\\\\text{wavelength_1_depth_interval__} &\\sim & \\text{TransformedDistribution}\\\\\\text{b} &\\sim & \\text{ImpactParameter}\\\\\\text{wavelength_1_u} &\\sim & \\text{QuadLimbDark}\\\\\\text{wavelength_1_depth} &\\sim & \\text{Uniform}\\\\\\text{wavelength_1_ror} &\\sim & \\text{Deterministic}\\\\\\text{wavelength_1_r_p} &\\sim & \\text{Deterministic}\\\\\\text{wavelength_1_light_curves} &\\sim & \\text{Deterministic}\\\\\\text{wavelength_1_mu} &\\sim & \\text{Deterministic}\\\\\\text{wavelength_1_obs} &\\sim & \\text{Normal}\n",
       "                \\end{array}\n",
       "                $$"
      ],
      "text/plain": [
       "<pymc3.model.Model at 0x7ffd5d55b7c0>"
      ]
     },
     "execution_count": 12,
     "metadata": {},
     "output_type": "execute_result"
    }
   ],
   "source": [
    "model"
   ]
  },
  {
   "cell_type": "code",
   "execution_count": 13,
   "id": "4048d1ae",
   "metadata": {
    "pycharm": {
     "name": "#%%\n"
    }
   },
   "outputs": [
    {
     "data": {
      "text/plain": [
       "{'m_s': array(0.99796947),\n",
       " 'r_s': array(1.00604269),\n",
       " 't0': array(4.35194369),\n",
       " 'P': array(7.21153839),\n",
       " 'b_impact__': array(-0.33400275),\n",
       " 'wavelength_1_u_quadlimbdark__': array([-0.91409414,  0.00407114]),\n",
       " 'wavelength_1_depth_interval__': array(-2.15759331),\n",
       " 'b': array(0.43395769),\n",
       " 'wavelength_1_u': array([ 0.53603076, -0.00108891]),\n",
       " 'wavelength_1_depth': array(0.00193261),\n",
       " 'wavelength_1_ror': array(0.04094715),\n",
       " 'wavelength_1_r_p': array(0.04119458),\n",
       " 'wavelength_1_light_curves': array([0., 0., 0., ..., 0., 0., 0.]),\n",
       " 'wavelength_1_mu': array([0., 0., 0., ..., 0., 0., 0.])}"
      ]
     },
     "execution_count": 13,
     "metadata": {},
     "output_type": "execute_result"
    }
   ],
   "source": [
    "opt"
   ]
  },
  {
   "cell_type": "code",
   "execution_count": null,
   "id": "64f7bfa0",
   "metadata": {
    "pycharm": {
     "name": "#%%\n"
    }
   },
   "outputs": [],
   "source": []
  }
 ],
 "metadata": {
  "kernelspec": {
   "display_name": "PyCharm (chromatic_fitting)",
   "language": "python",
   "name": "pycharm-622329cb"
  },
  "language_info": {
   "codemirror_mode": {
    "name": "ipython",
    "version": 3
   },
   "file_extension": ".py",
   "mimetype": "text/x-python",
   "name": "python",
   "nbconvert_exporter": "python",
   "pygments_lexer": "ipython3",
   "version": "3.9.7"
  }
 },
 "nbformat": 4,
 "nbformat_minor": 5
}

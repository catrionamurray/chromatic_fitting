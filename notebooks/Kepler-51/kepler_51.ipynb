{
 "cells": [
  {
   "cell_type": "code",
   "execution_count": null,
   "id": "13d6ab46-58f8-4c24-b122-30040ce59d85",
   "metadata": {},
   "outputs": [],
   "source": [
    "from chromatic_fitting import *\n",
    "import pymc3_ext as pmx\n",
    "starry.config.lazy = True\n",
    "starry.config.quiet = True\n",
    "from chromatic import bintoR, bintogrid\n",
    "from chromatic_fitting.jwst import planets\n",
    "from chromatic_fitting.jwst.jwst_utils import get_spot_contrast"
   ]
  },
  {
   "cell_type": "code",
   "execution_count": null,
   "id": "7def2adf-ed5b-4e3c-9632-3d72e0081642",
   "metadata": {
    "scrolled": true
   },
   "outputs": [],
   "source": [
    "# !pip install git+https://github.com/kevin218/Astraeus.git"
   ]
  },
  {
   "cell_type": "markdown",
   "id": "2edb5d79-977f-496d-b705-26f70bbf98e9",
   "metadata": {
    "jp-MarkdownHeadingCollapsed": true
   },
   "source": [
    "### Load in Kepler-51d data from Jessica"
   ]
  },
  {
   "cell_type": "code",
   "execution_count": null,
   "id": "ac1da3b1-e748-47a1-868f-8a39026feab9",
   "metadata": {},
   "outputs": [],
   "source": [
    "k51 = Rainbow(\"kepler51_stage3/S3_kepler51_ap3_bg7_SpecData.h5\")\n",
    "k51"
   ]
  },
  {
   "cell_type": "code",
   "execution_count": null,
   "id": "310dff8f-13d4-47d4-b8da-f79717d7992e",
   "metadata": {},
   "outputs": [],
   "source": [
    "k51.dt.to_value('s')"
   ]
  },
  {
   "cell_type": "markdown",
   "id": "ce61d1e5-af76-4909-8038-704a7e74eef3",
   "metadata": {},
   "source": [
    "Bin in time (to speed up everything later on)"
   ]
  },
  {
   "cell_type": "code",
   "execution_count": null,
   "id": "c3f3abeb-4476-4035-afd6-36059ff1387d",
   "metadata": {},
   "outputs": [],
   "source": [
    "k51 = k51.bin(dt=2*u.minute)"
   ]
  },
  {
   "cell_type": "code",
   "execution_count": null,
   "id": "a0142d95-35dc-4aab-bd7b-f11d5e277642",
   "metadata": {},
   "outputs": [],
   "source": [
    "k51"
   ]
  },
  {
   "cell_type": "code",
   "execution_count": null,
   "id": "c83e286b-525e-45cc-a550-4d5674660c4e",
   "metadata": {},
   "outputs": [],
   "source": [
    "k51.normalize().bin(R=100).imshow()"
   ]
  },
  {
   "cell_type": "code",
   "execution_count": null,
   "id": "476cd9f0-1f04-4c0f-a3d4-c799a57d279e",
   "metadata": {
    "scrolled": true
   },
   "outputs": [],
   "source": [
    "k51.normalize().bin(R=5).plot_lightcurves()\n",
    "# plt.savefig(\"wlc.png\")"
   ]
  },
  {
   "cell_type": "markdown",
   "id": "22b6d718-ccb5-438f-aa9b-2789199b071a",
   "metadata": {},
   "source": [
    "Load in planetary parameters"
   ]
  },
  {
   "cell_type": "code",
   "execution_count": null,
   "id": "83478a1e-4f12-42cb-851e-a3a41e58fefb",
   "metadata": {},
   "outputs": [],
   "source": [
    "k51_params, k51d_params = planets.kepler51()\n",
    "k51_params, k51d_params"
   ]
  },
  {
   "cell_type": "markdown",
   "id": "c5bef19e-1452-46d4-a5bd-1d4ec3b4ea8a",
   "metadata": {},
   "source": [
    "### Create transit + spot + polynomial model"
   ]
  },
  {
   "cell_type": "code",
   "execution_count": null,
   "id": "339967df-e2b5-4a1e-af10-8a9939fd6ba2",
   "metadata": {},
   "outputs": [],
   "source": [
    "sp = TransitSpotModel(ydeg=20, nspots=1)\n",
    "sp.setup_parameters(\n",
    "    # A = Fitted(Normal, mu=1.0, sd=0.01),\n",
    "    # stellar parameters\n",
    "    rs=0.8636679, #Fitted(TruncatedNormal,lower=0, mu=k51_params[\"r\"].to_value('R_sun'),testval=k51_params[\"r\"].to_value('R_sun'), sigma=0.011), # stellar radius in Sun radius\n",
    "    ms=0.9893804, #Fitted(Normal, mu=k51_params[\"m\"].to_value('M_sun'), sigma=0.012), # stellar mass in Sun masses\n",
    "    prot=k51_params[\"prot\"], # stellar rotation period\n",
    "    u=WavelikeFitted(TruncatedNormal, mu=k51_params['u'], sigma=0.1, lower=[0,-1], upper=[2,1], testval=k51_params['u'], shape=2),#Fitted(Normal, mu=[0.3,0.3], sigma=0.1, shape=2),#hatp18_params[\"u\"], # limb-darkening coeffs\n",
    "    stellar_inc=80, #Fitted(Uniform, lower=75, upper=85, testval=80),\n",
    "    \n",
    "    # spot 1 parameters\n",
    "    spot_contrast = WavelikeFitted(Uniform, lower=0.0, upper=1.0, testval=0.3),\n",
    "    spot_1_radius = 6.81, #Fitted(Uniform, lower=5.0, upper=30.0, testval=10), \n",
    "    spot_1_latitude = 2.627367, #Fitted(Uniform,lower=-90, upper=90, testval=0.1),\n",
    "    spot_1_longitude = 6.432652, #Fitted(Uniform, lower=-180, upper=180, testval=0.1),\n",
    "    \n",
    "    # planet parameters\n",
    "    mp=k51d_params['mp'].to_value('M_earth'), #Fitted(Normal, mu=k51d_params['mp'].to_value('M_earth'), sigma=1.12), #Fitted(Normal, mu=toi3884b_params['mp'], sigma=0.1), # planet mass in Earth masses\n",
    "    rp=WavelikeFitted(TruncatedNormal, lower=0.0, mu=k51d_params['rp'].to_value('R_earth'), sigma=0.5,\n",
    "                     testval=k51d_params['rp'].to_value('R_earth')), # planet radius in Earth radii\n",
    "    inc=89.87501, #Fitted(Normal, mu=k51d_params[\"inc\"],sigma=0.1),\n",
    "    period=k51d_params['porb'], \n",
    "    # omega=Fitted(Normal, mu=k51d_params['omega'], sigma=68), \n",
    "    ecc=k51d_params['ecc'], \n",
    "    t0=2460121.8473359, #Fitted(Normal, mu=2460121.847, sigma=0.01),\n",
    "    )\n",
    "\n",
    "p = PolynomialModel(degree=2)\n",
    "p.setup_parameters(\n",
    "    p_0 = WavelikeFitted(Normal, mu=1.0, sigma=1e-2),\n",
    "    p_1 = WavelikeFitted(Normal,mu=0.0,sigma=1e-2),\n",
    "    p_2 = WavelikeFitted(Normal,mu=0.0,sigma=1e-3),\n",
    "    )\n",
    "\n",
    "s = sp * p"
   ]
  },
  {
   "cell_type": "code",
   "execution_count": null,
   "id": "c7c1c41b-dc2e-4a1b-8e42-29ceae2b64a4",
   "metadata": {},
   "outputs": [],
   "source": [
    "s.attach_data(k51.normalize())"
   ]
  },
  {
   "cell_type": "code",
   "execution_count": null,
   "id": "99147592-2282-471f-8b88-a07c50fe90a8",
   "metadata": {},
   "outputs": [],
   "source": [
    "s.choose_optimization_method(\"separate\")"
   ]
  },
  {
   "cell_type": "code",
   "execution_count": null,
   "id": "f409dd78-86c5-4773-9f02-4e4e35e6284d",
   "metadata": {},
   "outputs": [],
   "source": [
    "# s.plot_lightcurves()"
   ]
  },
  {
   "cell_type": "code",
   "execution_count": null,
   "id": "d39cbde5-19bf-4aaa-a210-c1d0a198628a",
   "metadata": {},
   "outputs": [],
   "source": [
    "s.data"
   ]
  },
  {
   "cell_type": "markdown",
   "id": "3ee2a6fd-db6a-4445-833d-d25163e8328a",
   "metadata": {},
   "source": [
    "Include a parameter for inflating uncertainties per wavelength"
   ]
  },
  {
   "cell_type": "code",
   "execution_count": null,
   "id": "646cedd9-b7ab-431c-abf3-a9f1c67af2e8",
   "metadata": {
    "scrolled": true
   },
   "outputs": [],
   "source": [
    "nsig = WavelikeFitted(TruncatedNormal, mu=1.0, sigma=0.005, lower=1.0, upper=3.0, testval=1.01)\n",
    "s.setup_likelihood(inflate_uncertainties=False, inflate_uncertainties_prior=nsig)"
   ]
  },
  {
   "cell_type": "markdown",
   "id": "ed3411f6-6b81-4992-8558-99f93e6d5fe8",
   "metadata": {},
   "source": [
    "MAP-optimize the models to get initial values for sampling"
   ]
  },
  {
   "cell_type": "code",
   "execution_count": null,
   "id": "f971e8ae-da1a-4b1d-ab0c-f8040749f0d3",
   "metadata": {
    "scrolled": true
   },
   "outputs": [],
   "source": [
    "opt = s.optimize(plot=False)"
   ]
  },
  {
   "cell_type": "code",
   "execution_count": null,
   "id": "1dededcd-2cc9-4876-97bb-2d5449177674",
   "metadata": {},
   "outputs": [],
   "source": [
    "# s._pymc3_model"
   ]
  },
  {
   "cell_type": "markdown",
   "id": "05eb7a29-0b70-4243-a76b-494ed5554a86",
   "metadata": {},
   "source": [
    "MCMC (NUTS) Sample. I have an issue with running multiple cores on my machine - this might not be an issue for everyone... You can also try removing the `mp_ctx` kw and trying again "
   ]
  },
  {
   "cell_type": "code",
   "execution_count": null,
   "id": "3c1af0a8-6acb-4f38-977c-8bbd3b9c718a",
   "metadata": {
    "scrolled": true
   },
   "outputs": [],
   "source": [
    "s.sample(start=opt, sampling_method=pmx.sample, draws=500, tune=300, chains=2, cores=1, mp_ctx=\"spawn\",)"
   ]
  },
  {
   "cell_type": "markdown",
   "id": "1f812291-b3f5-4889-801d-e873399b29b3",
   "metadata": {
    "jp-MarkdownHeadingCollapsed": true
   },
   "source": [
    "### Plot and Save Results"
   ]
  },
  {
   "cell_type": "code",
   "execution_count": null,
   "id": "4735cba6-1cb9-40e6-b53f-d2eee0f38fe4",
   "metadata": {
    "scrolled": true
   },
   "outputs": [],
   "source": [
    "s.plot_with_model_and_residuals(model_plotkw={'zorder':0, 'color':'orange'})\n",
    "# plt.savefig(\"modelfit.png\")"
   ]
  },
  {
   "cell_type": "code",
   "execution_count": null,
   "id": "731c8c37-e373-42b3-9ba1-0852c93c1252",
   "metadata": {},
   "outputs": [],
   "source": [
    "pickle.dump(s._pymc3_model, open(\"pymc3model.pkl\", 'wb'))\n",
    "pickle.dump(s.summary, open(\"summary.pkl\", 'wb'))\n",
    "pickle.dump(s.trace, open(\"trace.pkl\", 'wb'))"
   ]
  },
  {
   "cell_type": "code",
   "execution_count": null,
   "id": "70ff8b79-c1df-4fc8-9150-aecaf7f48b5c",
   "metadata": {},
   "outputs": [],
   "source": [
    "s.imshow_with_models(vlimits_data=[0.99, 1.02], vspan_residuals=0.0005)\n",
    "plt.savefig(\"imshow.png\")"
   ]
  },
  {
   "cell_type": "code",
   "execution_count": null,
   "id": "f504e4a3-7d20-4e01-ae4f-5a4128ae0124",
   "metadata": {},
   "outputs": [],
   "source": [
    "# !pip install ffmpeg\n",
    "# !conda install -c conda-forge ffmpeg"
   ]
  },
  {
   "cell_type": "code",
   "execution_count": null,
   "id": "0d3aecc5-ea23-4161-9831-75e507b3f928",
   "metadata": {},
   "outputs": [],
   "source": [
    "# s._chromatic_models['transitspot'].keplerian_system.show(t=s.data.time)#t=2460121.83)"
   ]
  },
  {
   "cell_type": "code",
   "execution_count": null,
   "id": "b3760d99-7dda-41d5-9cd3-a2258bb79ca3",
   "metadata": {},
   "outputs": [],
   "source": [
    "s._chromatic_models['transitspot'].plot_spectrum()\n",
    "# plt.savefig(\"R10_transspec.png\")\n",
    "transspec = s.make_transmission_spectrum_table()\n",
    "# transspec.to_csv(\"R10_transspec.csv\")\n",
    "# plt.plot(\n",
    "# transspec"
   ]
  },
  {
   "cell_type": "code",
   "execution_count": null,
   "id": "7595a41e-9e75-4b26-a17c-b8dad7d56eac",
   "metadata": {},
   "outputs": [],
   "source": [
    "transspec = s.make_transmission_spectrum_table()\n",
    "(max(transspec['transitspot_radius_ratio'].values) * 0.8648831*u.R_sun).to_value('R_earth')"
   ]
  },
  {
   "cell_type": "code",
   "execution_count": null,
   "id": "aad01229-5ef0-4ed4-b70c-b67906017c97",
   "metadata": {},
   "outputs": [],
   "source": [
    "contrasts = []\n",
    "import math\n",
    "sr = math.sin((9.339763 * u.degree).to_value('radian'))\n",
    "print(sr)"
   ]
  },
  {
   "cell_type": "markdown",
   "id": "aae5b8de-f689-4cf5-94a8-204869b201a1",
   "metadata": {
    "jp-MarkdownHeadingCollapsed": true
   },
   "source": [
    "### Extract spot contrast from model"
   ]
  },
  {
   "cell_type": "code",
   "execution_count": null,
   "id": "178feb5d-e732-48d8-a661-477b19eb9f18",
   "metadata": {},
   "outputs": [],
   "source": [
    "spot_contrast = s._chromatic_models['transitspot'].plot_spectrum(param=\"spot_contrast\",name_of_spectrum='Spot Contrast') \n",
    "\n",
    "for spot_teff in np.linspace(4000, 5000, 6):\n",
    "    contrast = get_spot_contrast(wavelengths=s.data.wavelength, star_teff=5670, spot_teff=spot_teff, spot_radii=[sr], logg=4.7, metallicity=0.0, visualize=False)\n",
    "    plt.plot(s.data.wavelength, contrast, label=f\"{round(spot_teff)}K\", zorder=0, alpha=0.6)\n",
    "\n",
    "plt.legend()\n",
    "# spot_contrast = s._chromatic_models['transitspot'].make_spectrum_table(param=\"spot_contrast\")\n",
    "# plt.savefig(\"R10_spot_contrast.png\")\n",
    "# pd.DataFrame(spot_contrast).to_csv(\"R10_spot_contrast.csv\")\n",
    "# spot_contrast"
   ]
  },
  {
   "cell_type": "markdown",
   "id": "3a30d9c4-e30d-4274-b6de-a6448a59bfa3",
   "metadata": {
    "jp-MarkdownHeadingCollapsed": true
   },
   "source": [
    "### Plotting hack to get individual imshow components"
   ]
  },
  {
   "cell_type": "code",
   "execution_count": null,
   "id": "b0c09122-5a5d-408a-8fda-275c4e94587d",
   "metadata": {
    "scrolled": true
   },
   "outputs": [],
   "source": [
    "transitmod = []\n",
    "data = s.get_data()\n",
    "for i in range(data.nwave):\n",
    "    params = s._chromatic_models['transitspot'].extract_from_posteriors(s.summary, i=i)\n",
    "    params['transitspot_spot_contrast'] = 0\n",
    "    flux_model, sys = s._chromatic_models['transitspot'].setup_star_and_planet(\"transitspot_\", \n",
    "                                                                               s._chromatic_models['transitspot'].method, \n",
    "                                                                               params, \n",
    "                                                                               s.data.time.to_value('d'), \n",
    "                                                                               [])\n",
    "    transitmod.append(list(eval_in_model(flux_model, model=s._pymc3_model[i])[0]))\n",
    "transitmod = np.array(transitmod)\n",
    "new_model_rainbow = data._create_copy()\n",
    "new_model_rainbow = new_model_rainbow.attach_model(model=s.data_with_model.model/(np.transpose([s.data_with_model.model[:,0]]*data.ntime)), \n",
    "                               planet_model=transitmod/np.transpose([transitmod[:,0]]*data.ntime),\n",
    "                              spot_model=(s.data_with_model.planet_model/transitmod) / np.transpose([s.data_with_model.planet_model[:,0]/transitmod[:,0]]*data.ntime),\n",
    "                              systematics_model=s.data_with_model.systematics_model/np.transpose([s.data_with_model.systematics_model[:,0]]*data.ntime)\n",
    "                                                  )"
   ]
  },
  {
   "cell_type": "code",
   "execution_count": null,
   "id": "29706eb8-2f43-4484-bf15-f0de7ba794f1",
   "metadata": {},
   "outputs": [],
   "source": [
    "new_model_rainbow.flux = new_model_rainbow.flux/np.mean(new_model_rainbow.flux[:,:50])"
   ]
  },
  {
   "cell_type": "code",
   "execution_count": null,
   "id": "30a63607-b8ed-4032-b33f-4e0f731c7d74",
   "metadata": {},
   "outputs": [],
   "source": [
    "new_model_rainbow.imshow_with_models(models=['model','planet_model','spot_model', 'systematics_model'], \n",
    "                                     figsize=(12,4),\n",
    "                                     vlimits_data=[0.988,1.002],\n",
    "                                    vspan_residuals=0.005)\n",
    "plt.savefig(\"R10_imshow_all_mods.png\")"
   ]
  },
  {
   "cell_type": "code",
   "execution_count": null,
   "id": "efa22a75-b857-4230-bf73-5b85ab289b6b",
   "metadata": {},
   "outputs": [],
   "source": [
    "spot_contrast = s._chromatic_models['transitspot'].make_spectrum_table(param=\"spot_contrast\")\n",
    "max(spot_contrast['transitspot_spot_contrast'].values)"
   ]
  },
  {
   "cell_type": "markdown",
   "id": "104981a2-fe2c-4ff6-b52e-ab53e6f4fbf9",
   "metadata": {
    "jp-MarkdownHeadingCollapsed": true
   },
   "source": [
    "### Corner Plots"
   ]
  },
  {
   "cell_type": "code",
   "execution_count": null,
   "id": "2317562c-9d54-4f65-b8cf-221d4d10961a",
   "metadata": {
    "scrolled": true
   },
   "outputs": [],
   "source": [
    "# s.corner_plot()\n",
    "import corner\n",
    "for i, mod in enumerate(s._pymc3_model):\n",
    "    try:\n",
    "        with mod:\n",
    "            # print(i,s.trace[i][0], mod)\n",
    "            corner.corner(s.trace[i])\n",
    "        plt.savefig(f\"R10_{i}_corner.png\")\n",
    "    except Exception as e:\n",
    "        print(e)\n",
    "# plt.savefig(\"wlc_corner_with_poly.png\")"
   ]
  },
  {
   "cell_type": "code",
   "execution_count": null,
   "id": "2cf249f3-5d52-4203-b504-827ecb222409",
   "metadata": {},
   "outputs": [],
   "source": [
    "# s.data_with_model.animate_with_models()"
   ]
  },
  {
   "cell_type": "code",
   "execution_count": null,
   "id": "f14b622a-3a50-4898-9745-cb5440bb68be",
   "metadata": {},
   "outputs": [],
   "source": [
    "def get_spot_contrast(wavelengths, star_teff=3180, spot_teff=2900, spot_radii=[0.29, 0.16, 0.09],\n",
    "                      logg=4.97, metallicity=0.0, visualize=False):\n",
    "    # phoenix = np.load(\"phoenix_photons_metallicity=0.0_R=100.npy\", allow_pickle=True)\n",
    "    pl = PHOENIXLibrary()\n",
    "    S_star = pl.get_spectrum(temperature=star_teff, logg=logg, metallicity=metallicity,\n",
    "                             wavelength=wavelengths, visualize=visualize)\n",
    "    S_spot = pl.get_spectrum(temperature=spot_teff, logg=logg, metallicity=metallicity,\n",
    "                             wavelength=wavelengths, visualize=visualize)\n",
    "\n",
    "    f = 0\n",
    "    for sr in spot_radii:\n",
    "        f += sr ** 2\n",
    "    print(f\"Spot covering fraction = {f}\")\n",
    "\n",
    "    S_total = (f * S_spot[1]) + ((1 - f) * S_star[1])\n",
    "\n",
    "    if visualize:\n",
    "        plt.plot(S_star[0], S_star[1], label=f\"Star (T={star_teff}K)\")\n",
    "        plt.plot(S_spot[0], S_spot[1], label=f\"Spot (T={spot_teff}K)\")\n",
    "        plt.plot(wavelengths, S_total, 'k', alpha=0.3, label=f\"Mixed Spectrum (f={f})\")\n",
    "        plt.plot(wavelengths, S_total, 'k.', label=\"Mixed Spectrum\")\n",
    "\n",
    "        plt.ylabel(\"Surface Flux [Photons / (s * m**2 * nm)]\")\n",
    "        plt.xlabel(\"Wavelength [micron]\")\n",
    "        plt.legend()\n",
    "\n",
    "    contrast = (S_star[1] - S_spot[1]) / S_star[1]\n",
    "\n",
    "    if visualize:\n",
    "        plt.figure()\n",
    "        plt.plot(wavelengths, contrast)\n",
    "        plt.ylabel(\"Spot Contrast\")\n",
    "        plt.xlabel(\"Wavelength [micron]\")\n",
    "\n",
    "    return contrast"
   ]
  },
  {
   "cell_type": "code",
   "execution_count": null,
   "id": "122d82c1-af74-49f9-adf2-016abc7108f8",
   "metadata": {},
   "outputs": [],
   "source": []
  }
 ],
 "metadata": {
  "kernelspec": {
   "display_name": "Python 3 (ipykernel)",
   "language": "python",
   "name": "python3"
  },
  "language_info": {
   "codemirror_mode": {
    "name": "ipython",
    "version": 3
   },
   "file_extension": ".py",
   "mimetype": "text/x-python",
   "name": "python",
   "nbconvert_exporter": "python",
   "pygments_lexer": "ipython3",
   "version": "3.9.18"
  }
 },
 "nbformat": 4,
 "nbformat_minor": 5
}

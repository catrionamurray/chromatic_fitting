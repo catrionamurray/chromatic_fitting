{
 "cells": [
  {
   "cell_type": "markdown",
   "id": "6eb6c499",
   "metadata": {},
   "source": [
    "This notebook tests out an attempt at defining some `Parameter`-related classes that can be used to flexibily specify either fixed or fitted values that go into a model."
   ]
  },
  {
   "cell_type": "code",
   "execution_count": null,
   "id": "fa87fb4b",
   "metadata": {},
   "outputs": [],
   "source": [
    "from experimental_parameters import *\n",
    "import numpy as np\n",
    "from pymc3 import Normal, Uniform, Model\n",
    "from exoplanet import QuadLimbDark"
   ]
  },
  {
   "cell_type": "markdown",
   "id": "557704da",
   "metadata": {},
   "source": [
    "## What kinds of parameters do we need to be able to handle?"
   ]
  },
  {
   "cell_type": "markdown",
   "id": "61c0e991",
   "metadata": {},
   "source": [
    "Often we just want to put in some fixed value (planet period) or fix array of values (a pair of limb-darkening coefficients)."
   ]
  },
  {
   "cell_type": "code",
   "execution_count": null,
   "id": "83cfc653",
   "metadata": {},
   "outputs": [],
   "source": [
    "period = Fixed(1.234)\n",
    "period"
   ]
  },
  {
   "cell_type": "code",
   "execution_count": null,
   "id": "3d580608",
   "metadata": {},
   "outputs": [],
   "source": [
    "ld = Fixed([0.5, 0.6])\n",
    "ld"
   ]
  },
  {
   "cell_type": "markdown",
   "id": "435ccb0e",
   "metadata": {},
   "source": [
    "Sometimes we might need values that are fixed, where there's one associated with each wavelength. I put this one in for now, but I'm not using it yet, because it has the slightly tricky feature that you would need to know exactly how many wavelengths you're dealing with before you initialize the values, which might not always be the case. But, for example, this could be used for supplying limb-darkening coefficients if we want to fix them exactly to some theoretical values."
   ]
  },
  {
   "cell_type": "code",
   "execution_count": null,
   "id": "35432896",
   "metadata": {},
   "outputs": [],
   "source": [
    "u1_per_wavelength = WavelikeFixed(np.random.normal(0.3, 0.05, 10))\n",
    "u1_per_wavelength"
   ]
  },
  {
   "cell_type": "markdown",
   "id": "cc94fa74",
   "metadata": {},
   "source": [
    "Often, we have a parameter that we want to be able to fit for, and it's one parameter that applies to the whole multiwavelength model (stellar mass, impact parameter, eccentricity). For PyMC3 fitting, we can set those up by providing the definition of the distribution that's going to be used, but not actually initializing it yet (since that has to happen inside a PyMC3 model). You should think of these as objects that have everything they need to be able to generate a PyMC3 prior. You can provide any other inputs that are needed as additional keywords."
   ]
  },
  {
   "cell_type": "code",
   "execution_count": null,
   "id": "85ce705d",
   "metadata": {},
   "outputs": [],
   "source": [
    "stellar_radius = Fitted(Normal, mu=1.0, sigma=0.1, name='stellar_radius')\n",
    "stellar_radius"
   ]
  },
  {
   "cell_type": "code",
   "execution_count": null,
   "id": "62ed39ea",
   "metadata": {},
   "outputs": [],
   "source": [
    "ld = Fitted(QuadLimbDark)\n",
    "ld"
   ]
  },
  {
   "cell_type": "markdown",
   "id": "d1ae45a2",
   "metadata": {},
   "source": [
    "There are some parameters that we want to be able to fit for and we want them to have separate values for each wavelength. We don't necessarily know how many wavelengths we're going to be fitting from the start, but the `WavelikeFitted` object will generate as many different parameters as needed when they are needed. "
   ]
  },
  {
   "cell_type": "code",
   "execution_count": null,
   "id": "3520c7db",
   "metadata": {},
   "outputs": [],
   "source": [
    "radius_ratio = WavelikeFitted(Normal, mu=0.1, sigma=0.02, name='radius_ratio')\n",
    "radius_ratio"
   ]
  },
  {
   "cell_type": "markdown",
   "id": "9a909efd",
   "metadata": {},
   "source": [
    "## You can `.get_prior()` from a `Parameter` "
   ]
  },
  {
   "cell_type": "markdown",
   "id": "7ea95014",
   "metadata": {},
   "source": [
    "If it's a fixed parameter, this \"prior\" is just a value."
   ]
  },
  {
   "cell_type": "code",
   "execution_count": null,
   "id": "b5ee621e",
   "metadata": {},
   "outputs": [],
   "source": [
    "period.get_prior()"
   ]
  },
  {
   "cell_type": "markdown",
   "id": "bcf63990",
   "metadata": {},
   "source": [
    "If it's a fitted parameter, this prior is a PyMC3 distribution."
   ]
  },
  {
   "cell_type": "code",
   "execution_count": null,
   "id": "ef84d0c3",
   "metadata": {},
   "outputs": [],
   "source": [
    "with Model():\n",
    "    print(stellar_radius.get_prior())"
   ]
  },
  {
   "cell_type": "markdown",
   "id": "4522fd36",
   "metadata": {},
   "source": [
    "If it's a wavelike fixed parameter, the \"prior\" will be a different value for each index you supply (up to the number of wavelengths)."
   ]
  },
  {
   "cell_type": "code",
   "execution_count": null,
   "id": "4531a654",
   "metadata": {},
   "outputs": [],
   "source": [
    "u1_per_wavelength.get_prior(0)"
   ]
  },
  {
   "cell_type": "code",
   "execution_count": null,
   "id": "f5d6c052",
   "metadata": {},
   "outputs": [],
   "source": [
    "u1_per_wavelength.get_prior(3)"
   ]
  },
  {
   "cell_type": "markdown",
   "id": "acb775df",
   "metadata": {},
   "source": [
    "If it's a wavelike fitted parameter, the prior will be a different PyMC3 distribution for each index you supply (up to the number of wavelengths)."
   ]
  },
  {
   "cell_type": "code",
   "execution_count": null,
   "id": "0158f5af",
   "metadata": {},
   "outputs": [],
   "source": [
    "with Model():\n",
    "    for i in range(10):\n",
    "        print(radius_ratio.get_prior(i))"
   ]
  }
 ],
 "metadata": {
  "kernelspec": {
   "display_name": "Python 3",
   "language": "python",
   "name": "python3"
  },
  "language_info": {
   "codemirror_mode": {
    "name": "ipython",
    "version": 3
   },
   "file_extension": ".py",
   "mimetype": "text/x-python",
   "name": "python",
   "nbconvert_exporter": "python",
   "pygments_lexer": "ipython3",
   "version": "3.9.12"
  }
 },
 "nbformat": 4,
 "nbformat_minor": 5
}
